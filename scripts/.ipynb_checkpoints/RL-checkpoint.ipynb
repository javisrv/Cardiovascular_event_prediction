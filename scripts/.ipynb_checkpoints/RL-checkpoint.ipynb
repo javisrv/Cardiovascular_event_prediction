{
 "cells": [
  {
   "cell_type": "markdown",
   "id": "8bb39721",
   "metadata": {},
   "source": [
    "# 1.Importando módulos básicos"
   ]
  },
  {
   "cell_type": "code",
   "execution_count": 192,
   "id": "062beefd",
   "metadata": {},
   "outputs": [],
   "source": [
    "import pandas as pd\n",
    "import numpy as np\n",
    "import matplotlib.pyplot as plt\n",
    "import seaborn as sns"
   ]
  },
  {
   "cell_type": "markdown",
   "id": "4c94ed72",
   "metadata": {},
   "source": [
    "# 2.Importando data_to_model.csv"
   ]
  },
  {
   "cell_type": "code",
   "execution_count": 193,
   "id": "254e301b",
   "metadata": {
    "scrolled": true
   },
   "outputs": [
    {
     "data": {
      "text/html": [
       "<div>\n",
       "<style scoped>\n",
       "    .dataframe tbody tr th:only-of-type {\n",
       "        vertical-align: middle;\n",
       "    }\n",
       "\n",
       "    .dataframe tbody tr th {\n",
       "        vertical-align: top;\n",
       "    }\n",
       "\n",
       "    .dataframe thead th {\n",
       "        text-align: right;\n",
       "    }\n",
       "</style>\n",
       "<table border=\"1\" class=\"dataframe\">\n",
       "  <thead>\n",
       "    <tr style=\"text-align: right;\">\n",
       "      <th></th>\n",
       "      <th>gender</th>\n",
       "      <th>height</th>\n",
       "      <th>weight</th>\n",
       "      <th>cholesterol</th>\n",
       "      <th>gluc</th>\n",
       "      <th>smoke</th>\n",
       "      <th>alco</th>\n",
       "      <th>active</th>\n",
       "      <th>cardio</th>\n",
       "      <th>AgeinYr</th>\n",
       "      <th>TAS</th>\n",
       "      <th>TAD</th>\n",
       "      <th>PP</th>\n",
       "      <th>bmi</th>\n",
       "      <th>fram</th>\n",
       "      <th>esc</th>\n",
       "    </tr>\n",
       "  </thead>\n",
       "  <tbody>\n",
       "    <tr>\n",
       "      <th>0</th>\n",
       "      <td>f</td>\n",
       "      <td>168</td>\n",
       "      <td>62.0</td>\n",
       "      <td>normal</td>\n",
       "      <td>normal</td>\n",
       "      <td>no</td>\n",
       "      <td>no</td>\n",
       "      <td>si</td>\n",
       "      <td>0</td>\n",
       "      <td>50</td>\n",
       "      <td>110.0</td>\n",
       "      <td>80.0</td>\n",
       "      <td>30.0</td>\n",
       "      <td>21.97</td>\n",
       "      <td>13</td>\n",
       "      <td>0</td>\n",
       "    </tr>\n",
       "    <tr>\n",
       "      <th>1</th>\n",
       "      <td>m</td>\n",
       "      <td>156</td>\n",
       "      <td>85.0</td>\n",
       "      <td>alto</td>\n",
       "      <td>normal</td>\n",
       "      <td>no</td>\n",
       "      <td>no</td>\n",
       "      <td>si</td>\n",
       "      <td>1</td>\n",
       "      <td>55</td>\n",
       "      <td>140.0</td>\n",
       "      <td>90.0</td>\n",
       "      <td>50.0</td>\n",
       "      <td>34.93</td>\n",
       "      <td>15</td>\n",
       "      <td>5</td>\n",
       "    </tr>\n",
       "    <tr>\n",
       "      <th>2</th>\n",
       "      <td>m</td>\n",
       "      <td>165</td>\n",
       "      <td>64.0</td>\n",
       "      <td>alto</td>\n",
       "      <td>normal</td>\n",
       "      <td>no</td>\n",
       "      <td>no</td>\n",
       "      <td>no</td>\n",
       "      <td>1</td>\n",
       "      <td>51</td>\n",
       "      <td>130.0</td>\n",
       "      <td>70.0</td>\n",
       "      <td>60.0</td>\n",
       "      <td>23.51</td>\n",
       "      <td>12</td>\n",
       "      <td>6</td>\n",
       "    </tr>\n",
       "    <tr>\n",
       "      <th>3</th>\n",
       "      <td>f</td>\n",
       "      <td>169</td>\n",
       "      <td>82.0</td>\n",
       "      <td>normal</td>\n",
       "      <td>normal</td>\n",
       "      <td>no</td>\n",
       "      <td>no</td>\n",
       "      <td>si</td>\n",
       "      <td>1</td>\n",
       "      <td>48</td>\n",
       "      <td>150.0</td>\n",
       "      <td>100.0</td>\n",
       "      <td>50.0</td>\n",
       "      <td>28.71</td>\n",
       "      <td>23</td>\n",
       "      <td>1</td>\n",
       "    </tr>\n",
       "    <tr>\n",
       "      <th>4</th>\n",
       "      <td>m</td>\n",
       "      <td>156</td>\n",
       "      <td>56.0</td>\n",
       "      <td>normal</td>\n",
       "      <td>normal</td>\n",
       "      <td>no</td>\n",
       "      <td>no</td>\n",
       "      <td>no</td>\n",
       "      <td>0</td>\n",
       "      <td>47</td>\n",
       "      <td>100.0</td>\n",
       "      <td>60.0</td>\n",
       "      <td>40.0</td>\n",
       "      <td>23.01</td>\n",
       "      <td>14</td>\n",
       "      <td>1</td>\n",
       "    </tr>\n",
       "  </tbody>\n",
       "</table>\n",
       "</div>"
      ],
      "text/plain": [
       "  gender  height  weight cholesterol    gluc smoke alco active  cardio  \\\n",
       "0      f     168    62.0      normal  normal    no   no     si       0   \n",
       "1      m     156    85.0        alto  normal    no   no     si       1   \n",
       "2      m     165    64.0        alto  normal    no   no     no       1   \n",
       "3      f     169    82.0      normal  normal    no   no     si       1   \n",
       "4      m     156    56.0      normal  normal    no   no     no       0   \n",
       "\n",
       "   AgeinYr    TAS    TAD    PP    bmi  fram  esc  \n",
       "0       50  110.0   80.0  30.0  21.97    13    0  \n",
       "1       55  140.0   90.0  50.0  34.93    15    5  \n",
       "2       51  130.0   70.0  60.0  23.51    12    6  \n",
       "3       48  150.0  100.0  50.0  28.71    23    1  \n",
       "4       47  100.0   60.0  40.0  23.01    14    1  "
      ]
     },
     "execution_count": 193,
     "metadata": {},
     "output_type": "execute_result"
    }
   ],
   "source": [
    "data = pd.read_csv(\"../data/data_to_model.csv\")\n",
    "data.head()"
   ]
  },
  {
   "cell_type": "code",
   "execution_count": 194,
   "id": "57d5d4e8",
   "metadata": {},
   "outputs": [
    {
     "data": {
      "text/plain": [
       "(67353, 16)"
      ]
     },
     "execution_count": 194,
     "metadata": {},
     "output_type": "execute_result"
    }
   ],
   "source": [
    "data.shape"
   ]
  },
  {
   "cell_type": "markdown",
   "id": "0ae7e316",
   "metadata": {},
   "source": [
    "# 3.Variables categóricas: Usando OneHotEncoder"
   ]
  },
  {
   "cell_type": "markdown",
   "id": "6c938e04",
   "metadata": {},
   "source": [
    "**Usando OneHotEncoder de la clase 23: 5_checkpoint_video**"
   ]
  },
  {
   "cell_type": "code",
   "execution_count": 195,
   "id": "fdf91dec",
   "metadata": {},
   "outputs": [],
   "source": [
    "from sklearn.preprocessing import OneHotEncoder"
   ]
  },
  {
   "cell_type": "code",
   "execution_count": 196,
   "id": "73c9e484",
   "metadata": {},
   "outputs": [
    {
     "data": {
      "text/plain": [
       "[array(['f', 'm'], dtype=object),\n",
       " array(['alto', 'limitrofe', 'normal'], dtype=object),\n",
       " array(['diabetes', 'normal', 'prediabetes'], dtype=object),\n",
       " array(['no', 'si'], dtype=object),\n",
       " array(['no', 'si'], dtype=object),\n",
       " array(['no', 'si'], dtype=object)]"
      ]
     },
     "execution_count": 196,
     "metadata": {},
     "output_type": "execute_result"
    }
   ],
   "source": [
    "#Seleccionamos las variables categoricas para transformarlas en dummies\n",
    "categoricals = [\"gender\", \"cholesterol\", \"gluc\", \"smoke\", \"alco\", \"active\"]\n",
    "\n",
    "enc = OneHotEncoder(drop = \"first\")\n",
    "X = data[categoricals]\n",
    "enc.fit(X)\n",
    "enc.categories_"
   ]
  },
  {
   "cell_type": "code",
   "execution_count": 197,
   "id": "be8aacc0",
   "metadata": {},
   "outputs": [
    {
     "name": "stdout",
     "output_type": "stream",
     "text": [
      "['f' 'm']\n",
      "['normal' 'alto' 'limitrofe']\n",
      "['normal' 'prediabetes' 'diabetes']\n",
      "['no' 'si']\n",
      "['no' 'si']\n",
      "['si' 'no']\n"
     ]
    }
   ],
   "source": [
    "#Observar que en total tenemos 14 categorias, por lo tanto deberia crear 8 columnas dummie (n-1 * 6)\n",
    "\n",
    "for i in categoricals:\n",
    "    print(data[i].unique())"
   ]
  },
  {
   "cell_type": "code",
   "execution_count": 198,
   "id": "514df280",
   "metadata": {},
   "outputs": [
    {
     "data": {
      "text/plain": [
       "array([[0., 0., 1., ..., 0., 0., 1.],\n",
       "       [1., 0., 0., ..., 0., 0., 1.],\n",
       "       [1., 0., 0., ..., 0., 0., 0.],\n",
       "       ...,\n",
       "       [0., 0., 0., ..., 0., 1., 0.],\n",
       "       [1., 0., 1., ..., 0., 0., 0.],\n",
       "       [1., 1., 0., ..., 0., 0., 1.]])"
      ]
     },
     "execution_count": 198,
     "metadata": {},
     "output_type": "execute_result"
    }
   ],
   "source": [
    "#Transformo data[categoricals] en un array de n-1 columnas\n",
    "\n",
    "dummies = enc.transform(X).toarray()\n",
    "dummies"
   ]
  },
  {
   "cell_type": "code",
   "execution_count": 199,
   "id": "87299b6f",
   "metadata": {},
   "outputs": [
    {
     "data": {
      "text/plain": [
       "(67353, 8)"
      ]
     },
     "execution_count": 199,
     "metadata": {},
     "output_type": "execute_result"
    }
   ],
   "source": [
    "#Vemos que tiene 8 columnas\n",
    "\n",
    "dummies.shape"
   ]
  },
  {
   "cell_type": "code",
   "execution_count": 200,
   "id": "6a755b0a",
   "metadata": {},
   "outputs": [
    {
     "data": {
      "text/html": [
       "<div>\n",
       "<style scoped>\n",
       "    .dataframe tbody tr th:only-of-type {\n",
       "        vertical-align: middle;\n",
       "    }\n",
       "\n",
       "    .dataframe tbody tr th {\n",
       "        vertical-align: top;\n",
       "    }\n",
       "\n",
       "    .dataframe thead th {\n",
       "        text-align: right;\n",
       "    }\n",
       "</style>\n",
       "<table border=\"1\" class=\"dataframe\">\n",
       "  <thead>\n",
       "    <tr style=\"text-align: right;\">\n",
       "      <th></th>\n",
       "      <th>0</th>\n",
       "      <th>1</th>\n",
       "      <th>2</th>\n",
       "      <th>3</th>\n",
       "      <th>4</th>\n",
       "      <th>5</th>\n",
       "      <th>6</th>\n",
       "      <th>7</th>\n",
       "    </tr>\n",
       "  </thead>\n",
       "  <tbody>\n",
       "    <tr>\n",
       "      <th>0</th>\n",
       "      <td>0.0</td>\n",
       "      <td>0.0</td>\n",
       "      <td>1.0</td>\n",
       "      <td>1.0</td>\n",
       "      <td>0.0</td>\n",
       "      <td>0.0</td>\n",
       "      <td>0.0</td>\n",
       "      <td>1.0</td>\n",
       "    </tr>\n",
       "    <tr>\n",
       "      <th>1</th>\n",
       "      <td>1.0</td>\n",
       "      <td>0.0</td>\n",
       "      <td>0.0</td>\n",
       "      <td>1.0</td>\n",
       "      <td>0.0</td>\n",
       "      <td>0.0</td>\n",
       "      <td>0.0</td>\n",
       "      <td>1.0</td>\n",
       "    </tr>\n",
       "    <tr>\n",
       "      <th>2</th>\n",
       "      <td>1.0</td>\n",
       "      <td>0.0</td>\n",
       "      <td>0.0</td>\n",
       "      <td>1.0</td>\n",
       "      <td>0.0</td>\n",
       "      <td>0.0</td>\n",
       "      <td>0.0</td>\n",
       "      <td>0.0</td>\n",
       "    </tr>\n",
       "    <tr>\n",
       "      <th>3</th>\n",
       "      <td>0.0</td>\n",
       "      <td>0.0</td>\n",
       "      <td>1.0</td>\n",
       "      <td>1.0</td>\n",
       "      <td>0.0</td>\n",
       "      <td>0.0</td>\n",
       "      <td>0.0</td>\n",
       "      <td>1.0</td>\n",
       "    </tr>\n",
       "    <tr>\n",
       "      <th>4</th>\n",
       "      <td>1.0</td>\n",
       "      <td>0.0</td>\n",
       "      <td>1.0</td>\n",
       "      <td>1.0</td>\n",
       "      <td>0.0</td>\n",
       "      <td>0.0</td>\n",
       "      <td>0.0</td>\n",
       "      <td>0.0</td>\n",
       "    </tr>\n",
       "    <tr>\n",
       "      <th>...</th>\n",
       "      <td>...</td>\n",
       "      <td>...</td>\n",
       "      <td>...</td>\n",
       "      <td>...</td>\n",
       "      <td>...</td>\n",
       "      <td>...</td>\n",
       "      <td>...</td>\n",
       "      <td>...</td>\n",
       "    </tr>\n",
       "    <tr>\n",
       "      <th>67348</th>\n",
       "      <td>0.0</td>\n",
       "      <td>0.0</td>\n",
       "      <td>1.0</td>\n",
       "      <td>1.0</td>\n",
       "      <td>0.0</td>\n",
       "      <td>1.0</td>\n",
       "      <td>0.0</td>\n",
       "      <td>1.0</td>\n",
       "    </tr>\n",
       "    <tr>\n",
       "      <th>67349</th>\n",
       "      <td>1.0</td>\n",
       "      <td>1.0</td>\n",
       "      <td>0.0</td>\n",
       "      <td>0.0</td>\n",
       "      <td>1.0</td>\n",
       "      <td>0.0</td>\n",
       "      <td>0.0</td>\n",
       "      <td>1.0</td>\n",
       "    </tr>\n",
       "    <tr>\n",
       "      <th>67350</th>\n",
       "      <td>0.0</td>\n",
       "      <td>0.0</td>\n",
       "      <td>0.0</td>\n",
       "      <td>1.0</td>\n",
       "      <td>0.0</td>\n",
       "      <td>0.0</td>\n",
       "      <td>1.0</td>\n",
       "      <td>0.0</td>\n",
       "    </tr>\n",
       "    <tr>\n",
       "      <th>67351</th>\n",
       "      <td>1.0</td>\n",
       "      <td>0.0</td>\n",
       "      <td>1.0</td>\n",
       "      <td>0.0</td>\n",
       "      <td>1.0</td>\n",
       "      <td>0.0</td>\n",
       "      <td>0.0</td>\n",
       "      <td>0.0</td>\n",
       "    </tr>\n",
       "    <tr>\n",
       "      <th>67352</th>\n",
       "      <td>1.0</td>\n",
       "      <td>1.0</td>\n",
       "      <td>0.0</td>\n",
       "      <td>1.0</td>\n",
       "      <td>0.0</td>\n",
       "      <td>0.0</td>\n",
       "      <td>0.0</td>\n",
       "      <td>1.0</td>\n",
       "    </tr>\n",
       "  </tbody>\n",
       "</table>\n",
       "<p>67353 rows × 8 columns</p>\n",
       "</div>"
      ],
      "text/plain": [
       "         0    1    2    3    4    5    6    7\n",
       "0      0.0  0.0  1.0  1.0  0.0  0.0  0.0  1.0\n",
       "1      1.0  0.0  0.0  1.0  0.0  0.0  0.0  1.0\n",
       "2      1.0  0.0  0.0  1.0  0.0  0.0  0.0  0.0\n",
       "3      0.0  0.0  1.0  1.0  0.0  0.0  0.0  1.0\n",
       "4      1.0  0.0  1.0  1.0  0.0  0.0  0.0  0.0\n",
       "...    ...  ...  ...  ...  ...  ...  ...  ...\n",
       "67348  0.0  0.0  1.0  1.0  0.0  1.0  0.0  1.0\n",
       "67349  1.0  1.0  0.0  0.0  1.0  0.0  0.0  1.0\n",
       "67350  0.0  0.0  0.0  1.0  0.0  0.0  1.0  0.0\n",
       "67351  1.0  0.0  1.0  0.0  1.0  0.0  0.0  0.0\n",
       "67352  1.0  1.0  0.0  1.0  0.0  0.0  0.0  1.0\n",
       "\n",
       "[67353 rows x 8 columns]"
      ]
     },
     "execution_count": 200,
     "metadata": {},
     "output_type": "execute_result"
    }
   ],
   "source": [
    "#Ahora lo transformamos a df\n",
    "\n",
    "dummies_df = pd.DataFrame(dummies)\n",
    "dummies_df"
   ]
  },
  {
   "cell_type": "code",
   "execution_count": 201,
   "id": "cb7ca991",
   "metadata": {},
   "outputs": [
    {
     "data": {
      "text/plain": [
       "range(0, 6)"
      ]
     },
     "execution_count": 201,
     "metadata": {},
     "output_type": "execute_result"
    }
   ],
   "source": [
    "range(len(categoricals))"
   ]
  },
  {
   "cell_type": "code",
   "execution_count": 202,
   "id": "5693fc5f",
   "metadata": {},
   "outputs": [
    {
     "data": {
      "text/plain": [
       "[array(['gender_f', 'gender_m'], dtype=object),\n",
       " array(['cholesterol_alto', 'cholesterol_limitrofe', 'cholesterol_normal'],\n",
       "       dtype=object),\n",
       " array(['gluc_diabetes', 'gluc_normal', 'gluc_prediabetes'], dtype=object),\n",
       " array(['smoke_no', 'smoke_si'], dtype=object),\n",
       " array(['alco_no', 'alco_si'], dtype=object),\n",
       " array(['active_no', 'active_si'], dtype=object)]"
      ]
     },
     "execution_count": 202,
     "metadata": {},
     "output_type": "execute_result"
    }
   ],
   "source": [
    "#Le cambio el nombre a las columnas\n",
    "\n",
    "col_names = [categoricals[i] + '_' + enc.categories_[i] for i in range(len(categoricals))] \n",
    "                                                                 #range(len(categoricals)) = 0 a 6\n",
    "col_names"
   ]
  },
  {
   "cell_type": "code",
   "execution_count": 203,
   "id": "a88e3308",
   "metadata": {},
   "outputs": [
    {
     "data": {
      "text/plain": [
       "['gender_m',\n",
       " 'cholesterol_limitrofe',\n",
       " 'cholesterol_normal',\n",
       " 'gluc_normal',\n",
       " 'gluc_prediabetes',\n",
       " 'smoke_si',\n",
       " 'alco_si',\n",
       " 'active_si']"
      ]
     },
     "execution_count": 203,
     "metadata": {},
     "output_type": "execute_result"
    }
   ],
   "source": [
    "col_names_drop_first = [sublist[i] for sublist in col_names for i in range(len(sublist)) if i != 0]\n",
    "col_names_drop_first"
   ]
  },
  {
   "cell_type": "code",
   "execution_count": 204,
   "id": "f00c3ebf",
   "metadata": {},
   "outputs": [
    {
     "data": {
      "text/html": [
       "<div>\n",
       "<style scoped>\n",
       "    .dataframe tbody tr th:only-of-type {\n",
       "        vertical-align: middle;\n",
       "    }\n",
       "\n",
       "    .dataframe tbody tr th {\n",
       "        vertical-align: top;\n",
       "    }\n",
       "\n",
       "    .dataframe thead th {\n",
       "        text-align: right;\n",
       "    }\n",
       "</style>\n",
       "<table border=\"1\" class=\"dataframe\">\n",
       "  <thead>\n",
       "    <tr style=\"text-align: right;\">\n",
       "      <th></th>\n",
       "      <th>gender_m</th>\n",
       "      <th>cholesterol_limitrofe</th>\n",
       "      <th>cholesterol_normal</th>\n",
       "      <th>gluc_normal</th>\n",
       "      <th>gluc_prediabetes</th>\n",
       "      <th>smoke_si</th>\n",
       "      <th>alco_si</th>\n",
       "      <th>active_si</th>\n",
       "    </tr>\n",
       "  </thead>\n",
       "  <tbody>\n",
       "    <tr>\n",
       "      <th>0</th>\n",
       "      <td>0.0</td>\n",
       "      <td>0.0</td>\n",
       "      <td>1.0</td>\n",
       "      <td>1.0</td>\n",
       "      <td>0.0</td>\n",
       "      <td>0.0</td>\n",
       "      <td>0.0</td>\n",
       "      <td>1.0</td>\n",
       "    </tr>\n",
       "    <tr>\n",
       "      <th>1</th>\n",
       "      <td>1.0</td>\n",
       "      <td>0.0</td>\n",
       "      <td>0.0</td>\n",
       "      <td>1.0</td>\n",
       "      <td>0.0</td>\n",
       "      <td>0.0</td>\n",
       "      <td>0.0</td>\n",
       "      <td>1.0</td>\n",
       "    </tr>\n",
       "    <tr>\n",
       "      <th>2</th>\n",
       "      <td>1.0</td>\n",
       "      <td>0.0</td>\n",
       "      <td>0.0</td>\n",
       "      <td>1.0</td>\n",
       "      <td>0.0</td>\n",
       "      <td>0.0</td>\n",
       "      <td>0.0</td>\n",
       "      <td>0.0</td>\n",
       "    </tr>\n",
       "    <tr>\n",
       "      <th>3</th>\n",
       "      <td>0.0</td>\n",
       "      <td>0.0</td>\n",
       "      <td>1.0</td>\n",
       "      <td>1.0</td>\n",
       "      <td>0.0</td>\n",
       "      <td>0.0</td>\n",
       "      <td>0.0</td>\n",
       "      <td>1.0</td>\n",
       "    </tr>\n",
       "    <tr>\n",
       "      <th>4</th>\n",
       "      <td>1.0</td>\n",
       "      <td>0.0</td>\n",
       "      <td>1.0</td>\n",
       "      <td>1.0</td>\n",
       "      <td>0.0</td>\n",
       "      <td>0.0</td>\n",
       "      <td>0.0</td>\n",
       "      <td>0.0</td>\n",
       "    </tr>\n",
       "    <tr>\n",
       "      <th>...</th>\n",
       "      <td>...</td>\n",
       "      <td>...</td>\n",
       "      <td>...</td>\n",
       "      <td>...</td>\n",
       "      <td>...</td>\n",
       "      <td>...</td>\n",
       "      <td>...</td>\n",
       "      <td>...</td>\n",
       "    </tr>\n",
       "    <tr>\n",
       "      <th>67348</th>\n",
       "      <td>0.0</td>\n",
       "      <td>0.0</td>\n",
       "      <td>1.0</td>\n",
       "      <td>1.0</td>\n",
       "      <td>0.0</td>\n",
       "      <td>1.0</td>\n",
       "      <td>0.0</td>\n",
       "      <td>1.0</td>\n",
       "    </tr>\n",
       "    <tr>\n",
       "      <th>67349</th>\n",
       "      <td>1.0</td>\n",
       "      <td>1.0</td>\n",
       "      <td>0.0</td>\n",
       "      <td>0.0</td>\n",
       "      <td>1.0</td>\n",
       "      <td>0.0</td>\n",
       "      <td>0.0</td>\n",
       "      <td>1.0</td>\n",
       "    </tr>\n",
       "    <tr>\n",
       "      <th>67350</th>\n",
       "      <td>0.0</td>\n",
       "      <td>0.0</td>\n",
       "      <td>0.0</td>\n",
       "      <td>1.0</td>\n",
       "      <td>0.0</td>\n",
       "      <td>0.0</td>\n",
       "      <td>1.0</td>\n",
       "      <td>0.0</td>\n",
       "    </tr>\n",
       "    <tr>\n",
       "      <th>67351</th>\n",
       "      <td>1.0</td>\n",
       "      <td>0.0</td>\n",
       "      <td>1.0</td>\n",
       "      <td>0.0</td>\n",
       "      <td>1.0</td>\n",
       "      <td>0.0</td>\n",
       "      <td>0.0</td>\n",
       "      <td>0.0</td>\n",
       "    </tr>\n",
       "    <tr>\n",
       "      <th>67352</th>\n",
       "      <td>1.0</td>\n",
       "      <td>1.0</td>\n",
       "      <td>0.0</td>\n",
       "      <td>1.0</td>\n",
       "      <td>0.0</td>\n",
       "      <td>0.0</td>\n",
       "      <td>0.0</td>\n",
       "      <td>1.0</td>\n",
       "    </tr>\n",
       "  </tbody>\n",
       "</table>\n",
       "<p>67353 rows × 8 columns</p>\n",
       "</div>"
      ],
      "text/plain": [
       "       gender_m  cholesterol_limitrofe  cholesterol_normal  gluc_normal  \\\n",
       "0           0.0                    0.0                 1.0          1.0   \n",
       "1           1.0                    0.0                 0.0          1.0   \n",
       "2           1.0                    0.0                 0.0          1.0   \n",
       "3           0.0                    0.0                 1.0          1.0   \n",
       "4           1.0                    0.0                 1.0          1.0   \n",
       "...         ...                    ...                 ...          ...   \n",
       "67348       0.0                    0.0                 1.0          1.0   \n",
       "67349       1.0                    1.0                 0.0          0.0   \n",
       "67350       0.0                    0.0                 0.0          1.0   \n",
       "67351       1.0                    0.0                 1.0          0.0   \n",
       "67352       1.0                    1.0                 0.0          1.0   \n",
       "\n",
       "       gluc_prediabetes  smoke_si  alco_si  active_si  \n",
       "0                   0.0       0.0      0.0        1.0  \n",
       "1                   0.0       0.0      0.0        1.0  \n",
       "2                   0.0       0.0      0.0        0.0  \n",
       "3                   0.0       0.0      0.0        1.0  \n",
       "4                   0.0       0.0      0.0        0.0  \n",
       "...                 ...       ...      ...        ...  \n",
       "67348               0.0       1.0      0.0        1.0  \n",
       "67349               1.0       0.0      0.0        1.0  \n",
       "67350               0.0       0.0      1.0        0.0  \n",
       "67351               1.0       0.0      0.0        0.0  \n",
       "67352               0.0       0.0      0.0        1.0  \n",
       "\n",
       "[67353 rows x 8 columns]"
      ]
     },
     "execution_count": 204,
     "metadata": {},
     "output_type": "execute_result"
    }
   ],
   "source": [
    "dummies_df.columns = col_names_drop_first\n",
    "dummies_df"
   ]
  },
  {
   "cell_type": "markdown",
   "id": "8d753d80",
   "metadata": {},
   "source": [
    "**Agrego variables dummy a las columnas con datos numéricos**"
   ]
  },
  {
   "cell_type": "code",
   "execution_count": 205,
   "id": "e825cc22",
   "metadata": {},
   "outputs": [
    {
     "data": {
      "text/html": [
       "<div>\n",
       "<style scoped>\n",
       "    .dataframe tbody tr th:only-of-type {\n",
       "        vertical-align: middle;\n",
       "    }\n",
       "\n",
       "    .dataframe tbody tr th {\n",
       "        vertical-align: top;\n",
       "    }\n",
       "\n",
       "    .dataframe thead th {\n",
       "        text-align: right;\n",
       "    }\n",
       "</style>\n",
       "<table border=\"1\" class=\"dataframe\">\n",
       "  <thead>\n",
       "    <tr style=\"text-align: right;\">\n",
       "      <th></th>\n",
       "      <th>height</th>\n",
       "      <th>weight</th>\n",
       "      <th>AgeinYr</th>\n",
       "      <th>TAS</th>\n",
       "      <th>TAD</th>\n",
       "      <th>PP</th>\n",
       "      <th>bmi</th>\n",
       "      <th>fram</th>\n",
       "      <th>esc</th>\n",
       "    </tr>\n",
       "  </thead>\n",
       "  <tbody>\n",
       "    <tr>\n",
       "      <th>0</th>\n",
       "      <td>168</td>\n",
       "      <td>62.0</td>\n",
       "      <td>50</td>\n",
       "      <td>110.0</td>\n",
       "      <td>80.0</td>\n",
       "      <td>30.0</td>\n",
       "      <td>21.97</td>\n",
       "      <td>13</td>\n",
       "      <td>0</td>\n",
       "    </tr>\n",
       "    <tr>\n",
       "      <th>1</th>\n",
       "      <td>156</td>\n",
       "      <td>85.0</td>\n",
       "      <td>55</td>\n",
       "      <td>140.0</td>\n",
       "      <td>90.0</td>\n",
       "      <td>50.0</td>\n",
       "      <td>34.93</td>\n",
       "      <td>15</td>\n",
       "      <td>5</td>\n",
       "    </tr>\n",
       "    <tr>\n",
       "      <th>2</th>\n",
       "      <td>165</td>\n",
       "      <td>64.0</td>\n",
       "      <td>51</td>\n",
       "      <td>130.0</td>\n",
       "      <td>70.0</td>\n",
       "      <td>60.0</td>\n",
       "      <td>23.51</td>\n",
       "      <td>12</td>\n",
       "      <td>6</td>\n",
       "    </tr>\n",
       "    <tr>\n",
       "      <th>3</th>\n",
       "      <td>169</td>\n",
       "      <td>82.0</td>\n",
       "      <td>48</td>\n",
       "      <td>150.0</td>\n",
       "      <td>100.0</td>\n",
       "      <td>50.0</td>\n",
       "      <td>28.71</td>\n",
       "      <td>23</td>\n",
       "      <td>1</td>\n",
       "    </tr>\n",
       "    <tr>\n",
       "      <th>4</th>\n",
       "      <td>156</td>\n",
       "      <td>56.0</td>\n",
       "      <td>47</td>\n",
       "      <td>100.0</td>\n",
       "      <td>60.0</td>\n",
       "      <td>40.0</td>\n",
       "      <td>23.01</td>\n",
       "      <td>14</td>\n",
       "      <td>1</td>\n",
       "    </tr>\n",
       "  </tbody>\n",
       "</table>\n",
       "</div>"
      ],
      "text/plain": [
       "   height  weight  AgeinYr    TAS    TAD    PP    bmi  fram  esc\n",
       "0     168    62.0       50  110.0   80.0  30.0  21.97    13    0\n",
       "1     156    85.0       55  140.0   90.0  50.0  34.93    15    5\n",
       "2     165    64.0       51  130.0   70.0  60.0  23.51    12    6\n",
       "3     169    82.0       48  150.0  100.0  50.0  28.71    23    1\n",
       "4     156    56.0       47  100.0   60.0  40.0  23.01    14    1"
      ]
     },
     "execution_count": 205,
     "metadata": {},
     "output_type": "execute_result"
    }
   ],
   "source": [
    "variables_numericas = [\"height\", \"weight\", \"AgeinYr\", \"TAS\", \"TAD\", \"PP\", \"bmi\", \"fram\", \"esc\"]\n",
    "data_numerica = data[variables_numericas]\n",
    "data_numerica.head()"
   ]
  },
  {
   "cell_type": "code",
   "execution_count": 206,
   "id": "5a09d1dd",
   "metadata": {},
   "outputs": [
    {
     "data": {
      "text/html": [
       "<div>\n",
       "<style scoped>\n",
       "    .dataframe tbody tr th:only-of-type {\n",
       "        vertical-align: middle;\n",
       "    }\n",
       "\n",
       "    .dataframe tbody tr th {\n",
       "        vertical-align: top;\n",
       "    }\n",
       "\n",
       "    .dataframe thead th {\n",
       "        text-align: right;\n",
       "    }\n",
       "</style>\n",
       "<table border=\"1\" class=\"dataframe\">\n",
       "  <thead>\n",
       "    <tr style=\"text-align: right;\">\n",
       "      <th></th>\n",
       "      <th>gender_m</th>\n",
       "      <th>cholesterol_limitrofe</th>\n",
       "      <th>cholesterol_normal</th>\n",
       "      <th>gluc_normal</th>\n",
       "      <th>gluc_prediabetes</th>\n",
       "      <th>smoke_si</th>\n",
       "      <th>alco_si</th>\n",
       "      <th>active_si</th>\n",
       "      <th>height</th>\n",
       "      <th>weight</th>\n",
       "      <th>AgeinYr</th>\n",
       "      <th>TAS</th>\n",
       "      <th>TAD</th>\n",
       "      <th>PP</th>\n",
       "      <th>bmi</th>\n",
       "      <th>fram</th>\n",
       "      <th>esc</th>\n",
       "      <th>cardio</th>\n",
       "    </tr>\n",
       "  </thead>\n",
       "  <tbody>\n",
       "    <tr>\n",
       "      <th>0</th>\n",
       "      <td>0.0</td>\n",
       "      <td>0.0</td>\n",
       "      <td>1.0</td>\n",
       "      <td>1.0</td>\n",
       "      <td>0.0</td>\n",
       "      <td>0.0</td>\n",
       "      <td>0.0</td>\n",
       "      <td>1.0</td>\n",
       "      <td>168</td>\n",
       "      <td>62.0</td>\n",
       "      <td>50</td>\n",
       "      <td>110.0</td>\n",
       "      <td>80.0</td>\n",
       "      <td>30.0</td>\n",
       "      <td>21.97</td>\n",
       "      <td>13</td>\n",
       "      <td>0</td>\n",
       "      <td>0</td>\n",
       "    </tr>\n",
       "    <tr>\n",
       "      <th>1</th>\n",
       "      <td>1.0</td>\n",
       "      <td>0.0</td>\n",
       "      <td>0.0</td>\n",
       "      <td>1.0</td>\n",
       "      <td>0.0</td>\n",
       "      <td>0.0</td>\n",
       "      <td>0.0</td>\n",
       "      <td>1.0</td>\n",
       "      <td>156</td>\n",
       "      <td>85.0</td>\n",
       "      <td>55</td>\n",
       "      <td>140.0</td>\n",
       "      <td>90.0</td>\n",
       "      <td>50.0</td>\n",
       "      <td>34.93</td>\n",
       "      <td>15</td>\n",
       "      <td>5</td>\n",
       "      <td>1</td>\n",
       "    </tr>\n",
       "    <tr>\n",
       "      <th>2</th>\n",
       "      <td>1.0</td>\n",
       "      <td>0.0</td>\n",
       "      <td>0.0</td>\n",
       "      <td>1.0</td>\n",
       "      <td>0.0</td>\n",
       "      <td>0.0</td>\n",
       "      <td>0.0</td>\n",
       "      <td>0.0</td>\n",
       "      <td>165</td>\n",
       "      <td>64.0</td>\n",
       "      <td>51</td>\n",
       "      <td>130.0</td>\n",
       "      <td>70.0</td>\n",
       "      <td>60.0</td>\n",
       "      <td>23.51</td>\n",
       "      <td>12</td>\n",
       "      <td>6</td>\n",
       "      <td>1</td>\n",
       "    </tr>\n",
       "    <tr>\n",
       "      <th>3</th>\n",
       "      <td>0.0</td>\n",
       "      <td>0.0</td>\n",
       "      <td>1.0</td>\n",
       "      <td>1.0</td>\n",
       "      <td>0.0</td>\n",
       "      <td>0.0</td>\n",
       "      <td>0.0</td>\n",
       "      <td>1.0</td>\n",
       "      <td>169</td>\n",
       "      <td>82.0</td>\n",
       "      <td>48</td>\n",
       "      <td>150.0</td>\n",
       "      <td>100.0</td>\n",
       "      <td>50.0</td>\n",
       "      <td>28.71</td>\n",
       "      <td>23</td>\n",
       "      <td>1</td>\n",
       "      <td>1</td>\n",
       "    </tr>\n",
       "    <tr>\n",
       "      <th>4</th>\n",
       "      <td>1.0</td>\n",
       "      <td>0.0</td>\n",
       "      <td>1.0</td>\n",
       "      <td>1.0</td>\n",
       "      <td>0.0</td>\n",
       "      <td>0.0</td>\n",
       "      <td>0.0</td>\n",
       "      <td>0.0</td>\n",
       "      <td>156</td>\n",
       "      <td>56.0</td>\n",
       "      <td>47</td>\n",
       "      <td>100.0</td>\n",
       "      <td>60.0</td>\n",
       "      <td>40.0</td>\n",
       "      <td>23.01</td>\n",
       "      <td>14</td>\n",
       "      <td>1</td>\n",
       "      <td>0</td>\n",
       "    </tr>\n",
       "  </tbody>\n",
       "</table>\n",
       "</div>"
      ],
      "text/plain": [
       "   gender_m  cholesterol_limitrofe  cholesterol_normal  gluc_normal  \\\n",
       "0       0.0                    0.0                 1.0          1.0   \n",
       "1       1.0                    0.0                 0.0          1.0   \n",
       "2       1.0                    0.0                 0.0          1.0   \n",
       "3       0.0                    0.0                 1.0          1.0   \n",
       "4       1.0                    0.0                 1.0          1.0   \n",
       "\n",
       "   gluc_prediabetes  smoke_si  alco_si  active_si  height  weight  AgeinYr  \\\n",
       "0               0.0       0.0      0.0        1.0     168    62.0       50   \n",
       "1               0.0       0.0      0.0        1.0     156    85.0       55   \n",
       "2               0.0       0.0      0.0        0.0     165    64.0       51   \n",
       "3               0.0       0.0      0.0        1.0     169    82.0       48   \n",
       "4               0.0       0.0      0.0        0.0     156    56.0       47   \n",
       "\n",
       "     TAS    TAD    PP    bmi  fram  esc  cardio  \n",
       "0  110.0   80.0  30.0  21.97    13    0       0  \n",
       "1  140.0   90.0  50.0  34.93    15    5       1  \n",
       "2  130.0   70.0  60.0  23.51    12    6       1  \n",
       "3  150.0  100.0  50.0  28.71    23    1       1  \n",
       "4  100.0   60.0  40.0  23.01    14    1       0  "
      ]
     },
     "execution_count": 206,
     "metadata": {},
     "output_type": "execute_result"
    }
   ],
   "source": [
    "data_final = pd.concat([dummies_df, data_numerica,data[\"cardio\"]], axis = 1)\n",
    "data_final.head()"
   ]
  },
  {
   "cell_type": "code",
   "execution_count": 207,
   "id": "cd957356",
   "metadata": {},
   "outputs": [
    {
     "data": {
      "text/plain": [
       "(67353, 18)"
      ]
     },
     "execution_count": 207,
     "metadata": {},
     "output_type": "execute_result"
    }
   ],
   "source": [
    "data_final.shape"
   ]
  },
  {
   "cell_type": "markdown",
   "id": "c83ea91a",
   "metadata": {},
   "source": [
    "# 4.Creando sets de entrenamiento y testeo"
   ]
  },
  {
   "cell_type": "code",
   "execution_count": 208,
   "id": "ea036915",
   "metadata": {},
   "outputs": [],
   "source": [
    "X = data_final.drop(\"cardio\", axis = 1)\n",
    "y = data_final[\"cardio\"]"
   ]
  },
  {
   "cell_type": "code",
   "execution_count": 209,
   "id": "4c9064f9",
   "metadata": {
    "scrolled": true
   },
   "outputs": [
    {
     "name": "stdout",
     "output_type": "stream",
     "text": [
      "(50514, 17) (16839, 17) (50514,) (16839,)\n"
     ]
    }
   ],
   "source": [
    "from sklearn.model_selection import train_test_split\n",
    "\n",
    "X_train, X_test, y_train, y_test = train_test_split(X, y, stratify = data_final[\"gender_m\"], random_state = 123)\n",
    "print(X_train.shape, X_test.shape, y_train.shape, y_test.shape)"
   ]
  },
  {
   "cell_type": "markdown",
   "id": "804144f6",
   "metadata": {},
   "source": [
    "# 5.Variables numéricas: Estandarizando los datos"
   ]
  },
  {
   "cell_type": "code",
   "execution_count": 210,
   "id": "a3ef8663",
   "metadata": {},
   "outputs": [],
   "source": [
    "from sklearn.preprocessing import StandardScaler  "
   ]
  },
  {
   "cell_type": "code",
   "execution_count": 211,
   "id": "d0effbf0",
   "metadata": {},
   "outputs": [],
   "source": [
    "scaler = StandardScaler()\n",
    "X_train = scaler.fit_transform(X_train)"
   ]
  },
  {
   "cell_type": "code",
   "execution_count": 212,
   "id": "65a023a7",
   "metadata": {
    "scrolled": true
   },
   "outputs": [],
   "source": [
    "X_test = scaler.transform(X_test)"
   ]
  },
  {
   "cell_type": "markdown",
   "id": "96a33f19",
   "metadata": {},
   "source": [
    "# 6.KNN"
   ]
  },
  {
   "cell_type": "code",
   "execution_count": 223,
   "id": "94f3bd58",
   "metadata": {},
   "outputs": [],
   "source": [
    "from sklearn.neighbors import KNeighborsClassifier\n",
    "\n",
    "knn = KNeighborsClassifier(n_neighbors=100)\n",
    "knn.fit(X_train, y_train)\n",
    "y_pred = knn.predict(X_test)"
   ]
  },
  {
   "cell_type": "code",
   "execution_count": 224,
   "id": "0bcf3857",
   "metadata": {},
   "outputs": [
    {
     "name": "stdout",
     "output_type": "stream",
     "text": [
      "El accuracy_score es:  0.72\n"
     ]
    }
   ],
   "source": [
    "from sklearn.metrics import accuracy_score\n",
    "\n",
    "accuracy = accuracy_score(y_test, y_pred).round(2)\n",
    "print(\"El accuracy_score es: \", accuracy)"
   ]
  },
  {
   "cell_type": "markdown",
   "id": "9626b8c5",
   "metadata": {},
   "source": [
    "## 6.1 Qué sucede si elijo vecinos entre 1 y 25?"
   ]
  },
  {
   "cell_type": "code",
   "execution_count": 218,
   "id": "6b4dae43",
   "metadata": {},
   "outputs": [
    {
     "data": {
      "text/plain": [
       "[0.6373300077201735,\n",
       " 0.6430904448007602,\n",
       " 0.6779499970307026,\n",
       " 0.677415523487143,\n",
       " 0.688877011699032,\n",
       " 0.6948749925767563,\n",
       " 0.7001603420630679,\n",
       " 0.704792446107251,\n",
       " 0.7094839361007186,\n",
       " 0.7122156897678009,\n",
       " 0.7108498129342598,\n",
       " 0.7149474434348833,\n",
       " 0.712512619514223,\n",
       " 0.7133440228042045,\n",
       " 0.7154819169784429,\n",
       " 0.7155413029277273,\n",
       " 0.7156006888770117,\n",
       " 0.7160757764712868,\n",
       " 0.7167884078626997,\n",
       " 0.7180355127976721,\n",
       " 0.7186887582398005,\n",
       " 0.7178573549498188,\n",
       " 0.7193420036819289,\n",
       " 0.7199358631747729,\n",
       " 0.7203515648197636]"
      ]
     },
     "execution_count": 218,
     "metadata": {},
     "output_type": "execute_result"
    }
   ],
   "source": [
    "k_range = list(range(1, 26))\n",
    "scores = []\n",
    "for k in k_range:\n",
    "    knn = KNeighborsClassifier(n_neighbors=k)\n",
    "    knn.fit(X_train, y_train)\n",
    "    y_pred = knn.predict(X_test)\n",
    "    scores.append(accuracy_score(y_test, y_pred))\n",
    "scores"
   ]
  },
  {
   "cell_type": "code",
   "execution_count": 219,
   "id": "083b6546",
   "metadata": {},
   "outputs": [
    {
     "data": {
      "image/png": "[encoded data removed]",
      "text/plain": [
       "<Figure size 288x216 with 1 Axes>"
      ]
     },
     "metadata": {
      "needs_background": "light"
     },
     "output_type": "display_data"
    }
   ],
   "source": [
    "plt.figure(figsize=(4,3))\n",
    "plt.plot(k_range, scores)\n",
    "plt.xlabel('Valor de K'); plt.ylabel('Test Accuracy')\n",
    "plt.grid(); plt.show()"
   ]
  },
  {
   "cell_type": "code",
   "execution_count": 220,
   "id": "22c1d7fb",
   "metadata": {},
   "outputs": [
    {
     "name": "stdout",
     "output_type": "stream",
     "text": [
      "Mínimo K de todos los que tienen máximo score:  25\n",
      "Máximo K de todos los que tienen máximo score:  25\n"
     ]
    }
   ],
   "source": [
    "l =  [i for i,val in enumerate(scores) if val==max(scores)]\n",
    "print('Mínimo K de todos los que tienen máximo score: ', min(l) + 1)\n",
    "print('Máximo K de todos los que tienen máximo score: ', max(l) + 1)"
   ]
  },
  {
   "cell_type": "code",
   "execution_count": null,
   "id": "cb081a8a",
   "metadata": {},
   "outputs": [],
   "source": [
    "agregar aca gridsearchcv"
   ]
  },
  {
   "cell_type": "code",
   "execution_count": null,
   "id": "95c5a571",
   "metadata": {},
   "outputs": [],
   "source": []
  },
  {
   "cell_type": "code",
   "execution_count": null,
   "id": "04299db9",
   "metadata": {},
   "outputs": [],
   "source": []
  },
  {
   "cell_type": "code",
   "execution_count": null,
   "id": "471bc8e3",
   "metadata": {},
   "outputs": [],
   "source": []
  },
  {
   "cell_type": "code",
   "execution_count": 35,
   "id": "08d70187",
   "metadata": {},
   "outputs": [
    {
     "ename": "NameError",
     "evalue": "name 'asdasdasdasdasd' is not defined",
     "output_type": "error",
     "traceback": [
      "\u001b[1;31m---------------------------------------------------------------------------\u001b[0m",
      "\u001b[1;31mNameError\u001b[0m                                 Traceback (most recent call last)",
      "\u001b[1;32m<ipython-input-35-8b676b6ba378>\u001b[0m in \u001b[0;36m<module>\u001b[1;34m\u001b[0m\n\u001b[1;32m----> 1\u001b[1;33m \u001b[0masdasdasdasdasd\u001b[0m\u001b[1;33m\u001b[0m\u001b[1;33m\u001b[0m\u001b[0m\n\u001b[0m",
      "\u001b[1;31mNameError\u001b[0m: name 'asdasdasdasdasd' is not defined"
     ]
    }
   ],
   "source": [
    "asdasdasdasdasd"
   ]
  },
  {
   "cell_type": "code",
   "execution_count": null,
   "id": "c5946216",
   "metadata": {},
   "outputs": [],
   "source": [
    "#Seleccionamos las variables categoricas para transformarlas en dummies\n",
    "categoricals = ['cut', 'color', 'clarity']\n",
    "\n",
    "#Importo la libreria\n",
    "from sklearn.preprocessing import OneHotEncoder\n",
    "\n",
    "enc = OneHotEncoder(drop='first')  #Instancio el objeto. La cant de dummies es de n-1 (x eso el drop first)\n",
    "X = data[categoricals]\n",
    "enc.fit(X) #Ajusto a mis variables categoricas\n",
    "enc.categories_"
   ]
  },
  {
   "cell_type": "code",
   "execution_count": null,
   "id": "b8e3ec3d",
   "metadata": {},
   "outputs": [],
   "source": [
    "#Observar que en total tenemos 20 categorias, por lo tanto deberia crear 17 columnas dummie (n-1 * 3)\n",
    "print(data[\"cut\"].unique(),\n",
    "data[\"color\"].unique(),\n",
    "data[\"clarity\"].unique())"
   ]
  },
  {
   "cell_type": "code",
   "execution_count": null,
   "id": "c060bec8",
   "metadata": {},
   "outputs": [],
   "source": [
    "#Transformo data[categoricals] en un array de n-1 columnas\n",
    "dummies = enc.transform(X).toarray()\n",
    "dummies"
   ]
  },
  {
   "cell_type": "code",
   "execution_count": null,
   "id": "29ef981b",
   "metadata": {},
   "outputs": [],
   "source": [
    "#Ahora lo transformamos a df\n",
    "dummies_df = pd.DataFrame(dummies)\n",
    "dummies_df"
   ]
  },
  {
   "cell_type": "code",
   "execution_count": null,
   "id": "fddce424",
   "metadata": {},
   "outputs": [],
   "source": [
    "#Le cambio el nombre a las columnas\n",
    "\n",
    "col_names = [categoricals[i] + '_' + enc.categories_[i] for i in range(len(categoricals))] \n",
    "                                                                 #range(len(categoricals)) = 0 a 6\n",
    "col_names"
   ]
  },
  {
   "cell_type": "code",
   "execution_count": null,
   "id": "676c90bf",
   "metadata": {},
   "outputs": [],
   "source": [
    "col_names_drop_first = [sublist[i] for sublist in col_names for i in range(len(sublist)) if i != 0]\n",
    "col_names_drop_first"
   ]
  },
  {
   "cell_type": "code",
   "execution_count": null,
   "id": "16c0c4fd",
   "metadata": {},
   "outputs": [],
   "source": [
    "dummies_df.columns = col_names_drop_first\n",
    "dummies_df"
   ]
  },
  {
   "cell_type": "code",
   "execution_count": null,
   "id": "76a0ac4d",
   "metadata": {},
   "outputs": [],
   "source": []
  }
 ],
 "metadata": {
  "kernelspec": {
   "display_name": "Python 3 (ipykernel)",
   "language": "python",
   "name": "python3"
  },
  "language_info": {
   "codemirror_mode": {
    "name": "ipython",
    "version": 3
   },
   "file_extension": ".py",
   "mimetype": "text/x-python",
   "name": "python",
   "nbconvert_exporter": "python",
   "pygments_lexer": "ipython3",
   "version": "3.8.12"
  }
 },
 "nbformat": 4,
 "nbformat_minor": 5
}
