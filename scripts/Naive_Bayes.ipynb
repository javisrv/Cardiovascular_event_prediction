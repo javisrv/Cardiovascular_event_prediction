{
 "cells": [
  {
   "cell_type": "markdown",
   "metadata": {},
   "source": [
    "### Naive Bayes\n",
    "***\n",
    "##### Al tener datos numéricos y categóricas se entrenarán modelos de Naive Bayes Gaussianos y Categóricos para cada grupo de festures y luego se combinarán sus probabilidades en un modelo final."
   ]
  },
  {
   "cell_type": "code",
   "execution_count": 1,
   "metadata": {},
   "outputs": [],
   "source": [
    "import numpy as np\n",
    "import pandas as pd\n",
    "from sklearn.model_selection import train_test_split\n",
    "from sklearn.naive_bayes import GaussianNB, MultinomialNB\n",
    "from sklearn.metrics import confusion_matrix ,classification_report"
   ]
  },
  {
   "cell_type": "markdown",
   "metadata": {},
   "source": [
    "***\n",
    "##### Preparación de los datos"
   ]
  },
  {
   "cell_type": "code",
   "execution_count": 2,
   "metadata": {},
   "outputs": [],
   "source": [
    "data = pd.read_csv('../data/data_to_model.csv')"
   ]
  },
  {
   "cell_type": "code",
   "execution_count": 3,
   "metadata": {},
   "outputs": [
    {
     "data": {
      "text/plain": [
       "Index(['gender', 'height', 'weight', 'cholesterol', 'gluc', 'smoke', 'alco',\n",
       "       'active', 'cardio', 'AgeinYr', 'TAS', 'TAD', 'PP', 'bmi', 'fram',\n",
       "       'esc'],\n",
       "      dtype='object')"
      ]
     },
     "execution_count": 3,
     "metadata": {},
     "output_type": "execute_result"
    }
   ],
   "source": [
    "data.columns"
   ]
  },
  {
   "cell_type": "code",
   "execution_count": 4,
   "metadata": {},
   "outputs": [],
   "source": [
    "# Separo x de y\n",
    "y = data.cardio\n",
    "x = data.drop(columns=['cardio','fram','esc','height', 'weight'])"
   ]
  },
  {
   "cell_type": "code",
   "execution_count": 5,
   "metadata": {},
   "outputs": [],
   "source": [
    "# Genero dummies en X\n",
    "x_dummy = pd.get_dummies(x, drop_first=True)"
   ]
  },
  {
   "cell_type": "code",
   "execution_count": 7,
   "metadata": {},
   "outputs": [],
   "source": [
    "# Separo en train y test\n",
    "# Se realiza la estratificación en x_train y x_test con gender, ya que es una variable de alto impacto y se encuenyra desbalanceada\n",
    "X_train, X_test, y_train, y_test = train_test_split(x_dummy, y, random_state=34, stratify=x_dummy.gender_m, shuffle=True)\n"
   ]
  },
  {
   "cell_type": "markdown",
   "metadata": {},
   "source": [
    "***\n",
    "##### Entrenamiento del modelo"
   ]
  },
  {
   "cell_type": "markdown",
   "metadata": {},
   "source": [
    "##### Detalle:\n",
    "- Se separan las features en categoricas y numericas\n",
    "- Lluego se entrenan modelos de naive bayes categoricos y gaussianos respectivamente\n",
    "- Se realiza un predicción de probabilidades (predict_proba) para cada categoría (1 o 0) por sobre cada uno de los modelos en los datos de train y de test por separado obtieniendode matrices con las probabilidades de cada categoria\n",
    "- Luego se extrae la columna de probabilidades que corresponde a la categoria 1 y se combinan (np.c_) en una nueva matriz\n",
    "- Se conforma así una matriz (nro_elementos,2), con la probabilidad de tener la clase 1 en el subconjunto de features categoricas y numéricas\n",
    "- Se entrena un modelo Gaussiano con esta matriz, sobre el cual vamos a obtener las predicciones finales (predict)."
   ]
  },
  {
   "cell_type": "code",
   "execution_count": 8,
   "metadata": {},
   "outputs": [],
   "source": [
    "# Se separan las columnas que corresponden a features categóricos de los numéricos\n",
    "categorical_cols=['gender_m', 'cholesterol_limitrofe', 'cholesterol_normal',\\\n",
    "    'gluc_normal', 'gluc_prediabetes', 'smoke_si', 'alco_si', 'active_si']\n",
    "\n",
    "numerical_cols = ['AgeinYr', 'TAS', 'TAD', 'PP', 'bmi']"
   ]
  },
  {
   "cell_type": "code",
   "execution_count": 9,
   "metadata": {},
   "outputs": [],
   "source": [
    "# Instancio y entreno\n",
    "gaussNB=GaussianNB()  # Numericas\n",
    "gaussNB.fit(X_train[numerical_cols],y_train)\n",
    "categNB=MultinomialNB()  # Categoricas\n",
    "categNB.fit(X_train[categorical_cols],y_train)\n",
    "\n",
    "# Hago predict proba sobre cada X train y test numerico y categorico\n",
    "G_train_probas= gaussNB.predict_proba(X_train[numerical_cols])\n",
    "C_train_probas = categNB.predict_proba(X_train[categorical_cols])\n",
    "\n",
    "G_test_probas= gaussNB.predict_proba(X_test[numerical_cols])\n",
    "C_test_probas = categNB.predict_proba(X_test[categorical_cols])\n",
    "\n",
    "# Combino las probabilidades para la clase 1 en un array 2D\n",
    "X_new_train = np.c_[(G_train_probas[:,1], C_train_probas[:,1])] # Train\n",
    "X_new_test = np.c_[(G_test_probas[:,1], C_test_probas[:,1])] # Test\n",
    "\n",
    "# Instancio y entreno un NB Gaussiano para X_new\n",
    "finalNB=GaussianNB()\n",
    "finalNB.fit(X_new_train, y_train)\n",
    "\n",
    "# Hago un predict sobre train\n",
    "y_pred_naive_train = finalNB.predict(X_new_train)\n",
    "\n",
    "# Hago un predict sobre test\n",
    "y_pred_naive_test = finalNB.predict(X_new_test)\n"
   ]
  },
  {
   "cell_type": "markdown",
   "metadata": {},
   "source": [
    "*** \n",
    "##### Evaluación de los resultados"
   ]
  },
  {
   "cell_type": "code",
   "execution_count": 10,
   "metadata": {},
   "outputs": [
    {
     "name": "stdout",
     "output_type": "stream",
     "text": [
      "Predicciones sobre train \n",
      "               precision    recall  f1-score   support\n",
      "\n",
      "           0       0.67      0.81      0.74     25264\n",
      "           1       0.76      0.60      0.67     25250\n",
      "\n",
      "    accuracy                           0.71     50514\n",
      "   macro avg       0.72      0.71      0.70     50514\n",
      "weighted avg       0.72      0.71      0.70     50514\n",
      "\n"
     ]
    }
   ],
   "source": [
    "print(f'Predicciones sobre train \\n {classification_report(y_train,y_pred_naive_train)}')"
   ]
  },
  {
   "cell_type": "code",
   "execution_count": 11,
   "metadata": {},
   "outputs": [
    {
     "name": "stdout",
     "output_type": "stream",
     "text": [
      "Predicciones sobre test \n",
      "               precision    recall  f1-score   support\n",
      "\n",
      "           0       0.67      0.81      0.74      8531\n",
      "           1       0.76      0.60      0.67      8308\n",
      "\n",
      "    accuracy                           0.71     16839\n",
      "   macro avg       0.71      0.70      0.70     16839\n",
      "weighted avg       0.71      0.71      0.70     16839\n",
      "\n"
     ]
    }
   ],
   "source": [
    "print(f'Predicciones sobre test \\n {classification_report(y_test,y_pred_naive_test)}')"
   ]
  },
  {
   "cell_type": "markdown",
   "metadata": {},
   "source": [
    "##### El modelo no tiene overfitting"
   ]
  },
  {
   "cell_type": "markdown",
   "metadata": {},
   "source": [
    "##### Se valoran diferentes puntos de corte para clasificar la variable target"
   ]
  },
  {
   "cell_type": "code",
   "execution_count": 12,
   "metadata": {},
   "outputs": [],
   "source": [
    "def tunning_probs(probas,thr):\n",
    "    \"\"\"\n",
    "        Recibe la matriz de probabilidades para las categorias 0 y 1 y el threshold elegido\n",
    "        Devielve el vector de probabilidades binarizado acorde al threshold\n",
    "    \"\"\"\n",
    "    #Hacemos un predict_proba en y_pred_proba y lo modificamos con binarize a 0 o 1 según el threshold elegido\n",
    "    from sklearn.preprocessing import binarize\n",
    "    return binarize(probas, threshold=thr)[:,1]"
   ]
  },
  {
   "cell_type": "code",
   "execution_count": 13,
   "metadata": {},
   "outputs": [],
   "source": [
    "def explore_threshold(y_true, probas, ranges):\n",
    "    \"\"\"\n",
    "        Recibe la matriz de probabilidades de cada categoria y el rango de threshold, evalua\"\"\"\n",
    "    from sklearn.metrics import accuracy_score, precision_score, recall_score\n",
    "    import matplotlib.pyplot as plt\n",
    "    acc=list(); precis=list(); rec = list()\n",
    "    for thr in ranges:\n",
    "        predictions = tunning_probs(probas,thr)\n",
    "        acc.append(accuracy_score(y_true, predictions))\n",
    "        precis.append(precision_score(y_true, predictions))\n",
    "        rec.append(recall_score(y_true, predictions))\n",
    "    plt.plot(ranges,acc)\n",
    "    plt.plot(ranges, precis)\n",
    "    plt.plot(ranges, rec)\n",
    "    plt.legend(['Accuracy', 'Precission', 'Recall'])\n",
    "    plt.xlabel('Threshold')\n",
    "    plt.show()"
   ]
  },
  {
   "cell_type": "code",
   "execution_count": 14,
   "metadata": {},
   "outputs": [],
   "source": [
    "probas = finalNB.predict_proba(X_new_test)\n"
   ]
  },
  {
   "cell_type": "code",
   "execution_count": 15,
   "metadata": {},
   "outputs": [
    {
     "data": {
      "image/png": "[encoded data removed]",
      "text/plain": [
       "<Figure size 432x288 with 1 Axes>"
      ]
     },
     "metadata": {
      "needs_background": "light"
     },
     "output_type": "display_data"
    }
   ],
   "source": [
    "explore_threshold(y_test, probas, [0.25,0.3,0.35,0.4,0.45,0.5,0.55,0.6,0.65,0.7,0.75,0.8,0.85])"
   ]
  },
  {
   "cell_type": "code",
   "execution_count": 17,
   "metadata": {},
   "outputs": [
    {
     "name": "stdout",
     "output_type": "stream",
     "text": [
      "Se elige un threshold de 0.33 ya que se obtiene un valor balanceado de Recall y Precision\n",
      "              precision    recall  f1-score   support\n",
      "\n",
      "           0       0.71      0.69      0.70      8531\n",
      "           1       0.69      0.70      0.70      8308\n",
      "\n",
      "    accuracy                           0.70     16839\n",
      "   macro avg       0.70      0.70      0.70     16839\n",
      "weighted avg       0.70      0.70      0.70     16839\n",
      "\n"
     ]
    }
   ],
   "source": [
    "print('Se elige un threshold de 0.33 ya que se obtiene un valor balanceado de Recall y Precision')\n",
    "print(classification_report(y_test, tunning_probs(probas,0.33)))"
   ]
  },
  {
   "cell_type": "code",
   "execution_count": null,
   "metadata": {},
   "outputs": [],
   "source": []
  }
 ],
 "metadata": {
  "interpreter": {
   "hash": "bd42702498b0640961f86ea2e6d89f23caae50ab5e860e3e1107473170536751"
  },
  "kernelspec": {
   "display_name": "Python 3.8.10 ('dhdsblend2021')",
   "language": "python",
   "name": "python3"
  },
  "language_info": {
   "codemirror_mode": {
    "name": "ipython",
    "version": 3
   },
   "file_extension": ".py",
   "mimetype": "text/x-python",
   "name": "python",
   "nbconvert_exporter": "python",
   "pygments_lexer": "ipython3",
   "version": "3.8.10"
  },
  "orig_nbformat": 4
 },
 "nbformat": 4,
 "nbformat_minor": 2
}
