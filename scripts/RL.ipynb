{
 "cells": [
  {
   "cell_type": "markdown",
   "id": "8bb39721",
   "metadata": {},
   "source": [
    "## 1. Load basic modules "
   ]
  },
  {
   "cell_type": "code",
   "execution_count": 1,
   "id": "062beefd",
   "metadata": {},
   "outputs": [],
   "source": [
    "import pandas as pd\n",
    "import numpy as np\n",
    "import matplotlib.pyplot as plt\n",
    "import seaborn as sns\n",
    "from sklearn.preprocessing import OneHotEncoder\n",
    "import statsmodels.api as sm\n",
    "from sklearn.model_selection import train_test_split\n",
    "from sklearn.preprocessing import StandardScaler\n",
    "from sklearn.linear_model import LogisticRegression\n",
    "from sklearn.metrics import accuracy_score, confusion_matrix, classification_report\n"
   ]
  },
  {
   "cell_type": "markdown",
   "id": "4c94ed72",
   "metadata": {},
   "source": [
    "# 2.Load CSV "
   ]
  },
  {
   "cell_type": "code",
   "execution_count": 2,
   "id": "254e301b",
   "metadata": {
    "scrolled": true
   },
   "outputs": [
    {
     "data": {
      "text/html": [
       "<div>\n",
       "<style scoped>\n",
       "    .dataframe tbody tr th:only-of-type {\n",
       "        vertical-align: middle;\n",
       "    }\n",
       "\n",
       "    .dataframe tbody tr th {\n",
       "        vertical-align: top;\n",
       "    }\n",
       "\n",
       "    .dataframe thead th {\n",
       "        text-align: right;\n",
       "    }\n",
       "</style>\n",
       "<table border=\"1\" class=\"dataframe\">\n",
       "  <thead>\n",
       "    <tr style=\"text-align: right;\">\n",
       "      <th></th>\n",
       "      <th>gender</th>\n",
       "      <th>height</th>\n",
       "      <th>weight</th>\n",
       "      <th>ap_hi</th>\n",
       "      <th>ap_lo</th>\n",
       "      <th>cholesterol</th>\n",
       "      <th>gluc</th>\n",
       "      <th>smoke</th>\n",
       "      <th>alco</th>\n",
       "      <th>active</th>\n",
       "      <th>cardio</th>\n",
       "      <th>AgeinYr</th>\n",
       "      <th>AgeCat</th>\n",
       "      <th>bmi</th>\n",
       "      <th>bmi_cat</th>\n",
       "      <th>fram</th>\n",
       "      <th>esc</th>\n",
       "    </tr>\n",
       "  </thead>\n",
       "  <tbody>\n",
       "    <tr>\n",
       "      <th>0</th>\n",
       "      <td>f</td>\n",
       "      <td>168</td>\n",
       "      <td>62.0</td>\n",
       "      <td>110.0</td>\n",
       "      <td>80.0</td>\n",
       "      <td>normal</td>\n",
       "      <td>normal</td>\n",
       "      <td>no</td>\n",
       "      <td>no</td>\n",
       "      <td>yes</td>\n",
       "      <td>0</td>\n",
       "      <td>50</td>\n",
       "      <td>[50, 60)</td>\n",
       "      <td>21.97</td>\n",
       "      <td>Normal Weight</td>\n",
       "      <td>18</td>\n",
       "      <td>2</td>\n",
       "    </tr>\n",
       "    <tr>\n",
       "      <th>1</th>\n",
       "      <td>m</td>\n",
       "      <td>156</td>\n",
       "      <td>85.0</td>\n",
       "      <td>140.0</td>\n",
       "      <td>90.0</td>\n",
       "      <td>high</td>\n",
       "      <td>normal</td>\n",
       "      <td>no</td>\n",
       "      <td>no</td>\n",
       "      <td>yes</td>\n",
       "      <td>1</td>\n",
       "      <td>55</td>\n",
       "      <td>[50, 60)</td>\n",
       "      <td>34.93</td>\n",
       "      <td>Obesity</td>\n",
       "      <td>16</td>\n",
       "      <td>10</td>\n",
       "    </tr>\n",
       "    <tr>\n",
       "      <th>2</th>\n",
       "      <td>m</td>\n",
       "      <td>165</td>\n",
       "      <td>64.0</td>\n",
       "      <td>130.0</td>\n",
       "      <td>70.0</td>\n",
       "      <td>high</td>\n",
       "      <td>normal</td>\n",
       "      <td>no</td>\n",
       "      <td>no</td>\n",
       "      <td>no</td>\n",
       "      <td>1</td>\n",
       "      <td>51</td>\n",
       "      <td>[50, 60)</td>\n",
       "      <td>23.51</td>\n",
       "      <td>Normal Weight</td>\n",
       "      <td>13</td>\n",
       "      <td>6</td>\n",
       "    </tr>\n",
       "    <tr>\n",
       "      <th>3</th>\n",
       "      <td>f</td>\n",
       "      <td>169</td>\n",
       "      <td>82.0</td>\n",
       "      <td>150.0</td>\n",
       "      <td>100.0</td>\n",
       "      <td>normal</td>\n",
       "      <td>normal</td>\n",
       "      <td>no</td>\n",
       "      <td>no</td>\n",
       "      <td>yes</td>\n",
       "      <td>1</td>\n",
       "      <td>48</td>\n",
       "      <td>[40, 50)</td>\n",
       "      <td>28.71</td>\n",
       "      <td>Overweight</td>\n",
       "      <td>16</td>\n",
       "      <td>2</td>\n",
       "    </tr>\n",
       "    <tr>\n",
       "      <th>4</th>\n",
       "      <td>m</td>\n",
       "      <td>156</td>\n",
       "      <td>56.0</td>\n",
       "      <td>100.0</td>\n",
       "      <td>60.0</td>\n",
       "      <td>normal</td>\n",
       "      <td>normal</td>\n",
       "      <td>no</td>\n",
       "      <td>no</td>\n",
       "      <td>no</td>\n",
       "      <td>0</td>\n",
       "      <td>47</td>\n",
       "      <td>[40, 50)</td>\n",
       "      <td>23.01</td>\n",
       "      <td>Normal Weight</td>\n",
       "      <td>15</td>\n",
       "      <td>3</td>\n",
       "    </tr>\n",
       "  </tbody>\n",
       "</table>\n",
       "</div>"
      ],
      "text/plain": [
       "  gender  height  weight  ap_hi  ap_lo cholesterol    gluc smoke alco active  \\\n",
       "0      f     168    62.0  110.0   80.0      normal  normal    no   no    yes   \n",
       "1      m     156    85.0  140.0   90.0        high  normal    no   no    yes   \n",
       "2      m     165    64.0  130.0   70.0        high  normal    no   no     no   \n",
       "3      f     169    82.0  150.0  100.0      normal  normal    no   no    yes   \n",
       "4      m     156    56.0  100.0   60.0      normal  normal    no   no     no   \n",
       "\n",
       "   cardio  AgeinYr    AgeCat    bmi        bmi_cat  fram  esc  \n",
       "0       0       50  [50, 60)  21.97  Normal Weight    18    2  \n",
       "1       1       55  [50, 60)  34.93        Obesity    16   10  \n",
       "2       1       51  [50, 60)  23.51  Normal Weight    13    6  \n",
       "3       1       48  [40, 50)  28.71     Overweight    16    2  \n",
       "4       0       47  [40, 50)  23.01  Normal Weight    15    3  "
      ]
     },
     "execution_count": 2,
     "metadata": {},
     "output_type": "execute_result"
    }
   ],
   "source": [
    "data = pd.read_csv(\"../documents/data_both_scores.csv\")\n",
    "data.head()"
   ]
  },
  {
   "cell_type": "code",
   "execution_count": 3,
   "id": "57d5d4e8",
   "metadata": {},
   "outputs": [
    {
     "data": {
      "text/plain": [
       "(67359, 17)"
      ]
     },
     "execution_count": 3,
     "metadata": {},
     "output_type": "execute_result"
    }
   ],
   "source": [
    "data.shape"
   ]
  },
  {
   "cell_type": "markdown",
   "id": "c55a8b1f",
   "metadata": {},
   "source": [
    "# 3. Analysis and visualizations of the desired target"
   ]
  },
  {
   "cell_type": "markdown",
   "id": "e9b47314",
   "metadata": {},
   "source": [
    "## Predict variable (desired target): Cardio"
   ]
  },
  {
   "cell_type": "code",
   "execution_count": 4,
   "id": "1c602ca6",
   "metadata": {},
   "outputs": [
    {
     "data": {
      "image/png": "[encoded data removed]",
      "text/plain": [
       "<Figure size 432x288 with 1 Axes>"
      ]
     },
     "metadata": {
      "needs_background": "light"
     },
     "output_type": "display_data"
    }
   ],
   "source": [
    "sns.countplot(x = 'cardio', data = data, palette = 'hls')\n",
    "plt.show()"
   ]
  },
  {
   "cell_type": "markdown",
   "id": "f7c5137f",
   "metadata": {},
   "source": [
    "**As we can see, we have balanced  amounts of cardiovascular events**"
   ]
  },
  {
   "cell_type": "code",
   "execution_count": 5,
   "id": "3439801b",
   "metadata": {},
   "outputs": [
    {
     "data": {
      "text/plain": [
       "<AxesSubplot:>"
      ]
     },
     "execution_count": 5,
     "metadata": {},
     "output_type": "execute_result"
    },
    {
     "data": {
      "image/png": "[encoded data removed]",
      "text/plain": [
       "<Figure size 576x864 with 2 Axes>"
      ]
     },
     "metadata": {
      "needs_background": "light"
     },
     "output_type": "display_data"
    }
   ],
   "source": [
    "plt.figure(figsize=(8,12))\n",
    "sns.heatmap(data.corr()[['cardio']], annot=True)"
   ]
  },
  {
   "cell_type": "code",
   "execution_count": 6,
   "id": "75f17dfb",
   "metadata": {},
   "outputs": [
    {
     "data": {
      "text/html": [
       "<table class=\"simpletable\">\n",
       "<caption>Generalized Linear Model Regression Results</caption>\n",
       "<tr>\n",
       "  <th>Dep. Variable:</th>        <td>cardio</td>      <th>  No. Observations:  </th>  <td> 67359</td> \n",
       "</tr>\n",
       "<tr>\n",
       "  <th>Model:</th>                  <td>GLM</td>       <th>  Df Residuals:      </th>  <td> 67346</td> \n",
       "</tr>\n",
       "<tr>\n",
       "  <th>Model Family:</th>        <td>Binomial</td>     <th>  Df Model:          </th>  <td>    12</td> \n",
       "</tr>\n",
       "<tr>\n",
       "  <th>Link Function:</th>         <td>logit</td>      <th>  Scale:             </th> <td>  1.0000</td>\n",
       "</tr>\n",
       "<tr>\n",
       "  <th>Method:</th>                <td>IRLS</td>       <th>  Log-Likelihood:    </th> <td> -39888.</td>\n",
       "</tr>\n",
       "<tr>\n",
       "  <th>Date:</th>            <td>Tue, 28 Jun 2022</td> <th>  Deviance:          </th> <td>  79777.</td>\n",
       "</tr>\n",
       "<tr>\n",
       "  <th>Time:</th>                <td>11:08:55</td>     <th>  Pearson chi2:      </th> <td>7.27e+04</td>\n",
       "</tr>\n",
       "<tr>\n",
       "  <th>No. Iterations:</th>          <td>5</td>        <th>                     </th>     <td> </td>   \n",
       "</tr>\n",
       "<tr>\n",
       "  <th>Covariance Type:</th>     <td>nonrobust</td>    <th>                     </th>     <td> </td>   \n",
       "</tr>\n",
       "</table>\n",
       "<table class=\"simpletable\">\n",
       "<tr>\n",
       "            <td></td>               <th>coef</th>     <th>std err</th>      <th>z</th>      <th>P>|z|</th>  <th>[0.025</th>    <th>0.975]</th>  \n",
       "</tr>\n",
       "<tr>\n",
       "  <th>Intercept</th>             <td>   -0.5853</td> <td>    0.122</td> <td>   -4.807</td> <td> 0.000</td> <td>   -0.824</td> <td>   -0.347</td>\n",
       "</tr>\n",
       "<tr>\n",
       "  <th>gender[T.m]</th>           <td>   -0.9354</td> <td>    0.028</td> <td>  -32.907</td> <td> 0.000</td> <td>   -0.991</td> <td>   -0.880</td>\n",
       "</tr>\n",
       "<tr>\n",
       "  <th>cholesterol[T.high]</th>   <td>    0.1817</td> <td>    0.043</td> <td>    4.251</td> <td> 0.000</td> <td>    0.098</td> <td>    0.266</td>\n",
       "</tr>\n",
       "<tr>\n",
       "  <th>cholesterol[T.normal]</th> <td>   -0.3790</td> <td>    0.030</td> <td>  -12.764</td> <td> 0.000</td> <td>   -0.437</td> <td>   -0.321</td>\n",
       "</tr>\n",
       "<tr>\n",
       "  <th>gluc[T.normal]</th>        <td>    0.3987</td> <td>    0.039</td> <td>   10.111</td> <td> 0.000</td> <td>    0.321</td> <td>    0.476</td>\n",
       "</tr>\n",
       "<tr>\n",
       "  <th>gluc[T.prediabetes]</th>   <td>    0.4294</td> <td>    0.051</td> <td>    8.476</td> <td> 0.000</td> <td>    0.330</td> <td>    0.529</td>\n",
       "</tr>\n",
       "<tr>\n",
       "  <th>smoke[T.yes]</th>          <td>   -1.9238</td> <td>    0.043</td> <td>  -44.742</td> <td> 0.000</td> <td>   -2.008</td> <td>   -1.839</td>\n",
       "</tr>\n",
       "<tr>\n",
       "  <th>alco[T.yes]</th>           <td>   -0.1647</td> <td>    0.041</td> <td>   -4.059</td> <td> 0.000</td> <td>   -0.244</td> <td>   -0.085</td>\n",
       "</tr>\n",
       "<tr>\n",
       "  <th>active[T.yes]</th>         <td>   -0.1720</td> <td>    0.021</td> <td>   -8.028</td> <td> 0.000</td> <td>   -0.214</td> <td>   -0.130</td>\n",
       "</tr>\n",
       "<tr>\n",
       "  <th>AgeinYr</th>               <td>   -0.0664</td> <td>    0.002</td> <td>  -29.446</td> <td> 0.000</td> <td>   -0.071</td> <td>   -0.062</td>\n",
       "</tr>\n",
       "<tr>\n",
       "  <th>bmi</th>                   <td>    0.0445</td> <td>    0.002</td> <td>   24.430</td> <td> 0.000</td> <td>    0.041</td> <td>    0.048</td>\n",
       "</tr>\n",
       "<tr>\n",
       "  <th>fram</th>                  <td>    0.1038</td> <td>    0.004</td> <td>   28.409</td> <td> 0.000</td> <td>    0.097</td> <td>    0.111</td>\n",
       "</tr>\n",
       "<tr>\n",
       "  <th>esc</th>                   <td>    0.4455</td> <td>    0.008</td> <td>   57.218</td> <td> 0.000</td> <td>    0.430</td> <td>    0.461</td>\n",
       "</tr>\n",
       "</table>"
      ],
      "text/plain": [
       "<class 'statsmodels.iolib.summary.Summary'>\n",
       "\"\"\"\n",
       "                 Generalized Linear Model Regression Results                  \n",
       "==============================================================================\n",
       "Dep. Variable:                 cardio   No. Observations:                67359\n",
       "Model:                            GLM   Df Residuals:                    67346\n",
       "Model Family:                Binomial   Df Model:                           12\n",
       "Link Function:                  logit   Scale:                          1.0000\n",
       "Method:                          IRLS   Log-Likelihood:                -39888.\n",
       "Date:                Tue, 28 Jun 2022   Deviance:                       79777.\n",
       "Time:                        11:08:55   Pearson chi2:                 7.27e+04\n",
       "No. Iterations:                     5                                         \n",
       "Covariance Type:            nonrobust                                         \n",
       "=========================================================================================\n",
       "                            coef    std err          z      P>|z|      [0.025      0.975]\n",
       "-----------------------------------------------------------------------------------------\n",
       "Intercept                -0.5853      0.122     -4.807      0.000      -0.824      -0.347\n",
       "gender[T.m]              -0.9354      0.028    -32.907      0.000      -0.991      -0.880\n",
       "cholesterol[T.high]       0.1817      0.043      4.251      0.000       0.098       0.266\n",
       "cholesterol[T.normal]    -0.3790      0.030    -12.764      0.000      -0.437      -0.321\n",
       "gluc[T.normal]            0.3987      0.039     10.111      0.000       0.321       0.476\n",
       "gluc[T.prediabetes]       0.4294      0.051      8.476      0.000       0.330       0.529\n",
       "smoke[T.yes]             -1.9238      0.043    -44.742      0.000      -2.008      -1.839\n",
       "alco[T.yes]              -0.1647      0.041     -4.059      0.000      -0.244      -0.085\n",
       "active[T.yes]            -0.1720      0.021     -8.028      0.000      -0.214      -0.130\n",
       "AgeinYr                  -0.0664      0.002    -29.446      0.000      -0.071      -0.062\n",
       "bmi                       0.0445      0.002     24.430      0.000       0.041       0.048\n",
       "fram                      0.1038      0.004     28.409      0.000       0.097       0.111\n",
       "esc                       0.4455      0.008     57.218      0.000       0.430       0.461\n",
       "=========================================================================================\n",
       "\"\"\""
      ]
     },
     "execution_count": 6,
     "metadata": {},
     "output_type": "execute_result"
    }
   ],
   "source": [
    "model = sm.GLM.from_formula(\"cardio ~ gender + AgeinYr + cholesterol + gluc + smoke + alco + active + bmi + fram + esc\", family = sm.families.Binomial(), data=data)\n",
    "result = model.fit()\n",
    "result.summary()"
   ]
  },
  {
   "cell_type": "markdown",
   "id": "a991254b",
   "metadata": {},
   "source": [
    "**The p-values for most of the variables are smaller than 0.05, so we keep all the features**"
   ]
  },
  {
   "cell_type": "code",
   "execution_count": 31,
   "id": "56013898",
   "metadata": {},
   "outputs": [
    {
     "data": {
      "text/html": [
       "<div>\n",
       "<style scoped>\n",
       "    .dataframe tbody tr th:only-of-type {\n",
       "        vertical-align: middle;\n",
       "    }\n",
       "\n",
       "    .dataframe tbody tr th {\n",
       "        vertical-align: top;\n",
       "    }\n",
       "\n",
       "    .dataframe thead th {\n",
       "        text-align: right;\n",
       "    }\n",
       "</style>\n",
       "<table border=\"1\" class=\"dataframe\">\n",
       "  <thead>\n",
       "    <tr style=\"text-align: right;\">\n",
       "      <th></th>\n",
       "      <th>cardio</th>\n",
       "      <th>AgeinYr</th>\n",
       "      <th>bmi</th>\n",
       "      <th>fram</th>\n",
       "      <th>esc</th>\n",
       "    </tr>\n",
       "  </thead>\n",
       "  <tbody>\n",
       "    <tr>\n",
       "      <th>cardio</th>\n",
       "      <td>1.000000</td>\n",
       "      <td>0.235421</td>\n",
       "      <td>0.190022</td>\n",
       "      <td>0.186343</td>\n",
       "      <td>0.330570</td>\n",
       "    </tr>\n",
       "    <tr>\n",
       "      <th>AgeinYr</th>\n",
       "      <td>0.235421</td>\n",
       "      <td>1.000000</td>\n",
       "      <td>0.096048</td>\n",
       "      <td>0.398675</td>\n",
       "      <td>0.681185</td>\n",
       "    </tr>\n",
       "    <tr>\n",
       "      <th>bmi</th>\n",
       "      <td>0.190022</td>\n",
       "      <td>0.096048</td>\n",
       "      <td>1.000000</td>\n",
       "      <td>0.066898</td>\n",
       "      <td>0.232791</td>\n",
       "    </tr>\n",
       "    <tr>\n",
       "      <th>fram</th>\n",
       "      <td>0.186343</td>\n",
       "      <td>0.398675</td>\n",
       "      <td>0.066898</td>\n",
       "      <td>1.000000</td>\n",
       "      <td>0.246095</td>\n",
       "    </tr>\n",
       "    <tr>\n",
       "      <th>esc</th>\n",
       "      <td>0.330570</td>\n",
       "      <td>0.681185</td>\n",
       "      <td>0.232791</td>\n",
       "      <td>0.246095</td>\n",
       "      <td>1.000000</td>\n",
       "    </tr>\n",
       "  </tbody>\n",
       "</table>\n",
       "</div>"
      ],
      "text/plain": [
       "           cardio   AgeinYr       bmi      fram       esc\n",
       "cardio   1.000000  0.235421  0.190022  0.186343  0.330570\n",
       "AgeinYr  0.235421  1.000000  0.096048  0.398675  0.681185\n",
       "bmi      0.190022  0.096048  1.000000  0.066898  0.232791\n",
       "fram     0.186343  0.398675  0.066898  1.000000  0.246095\n",
       "esc      0.330570  0.681185  0.232791  0.246095  1.000000"
      ]
     },
     "execution_count": 31,
     "metadata": {},
     "output_type": "execute_result"
    }
   ],
   "source": [
    "data[[\"cardio\", \"gender\", \"AgeinYr\", \"cholesterol\", \"gluc\", \"smoke\", \"alco\", \"active\", \"bmi\", \"fram\", \"esc\"]].corr()"
   ]
  },
  {
   "cell_type": "markdown",
   "id": "6962b105",
   "metadata": {},
   "source": [
    "# 4.Transform the Categorical Variables: Creating Dummy Variables"
   ]
  },
  {
   "cell_type": "code",
   "execution_count": 8,
   "id": "7ab9fb15",
   "metadata": {},
   "outputs": [
    {
     "data": {
      "text/plain": [
       "[array(['f', 'm'], dtype=object),\n",
       " array(['bordering', 'high', 'normal'], dtype=object),\n",
       " array(['diabetes', 'normal', 'prediabetes'], dtype=object),\n",
       " array(['no', 'yes'], dtype=object),\n",
       " array(['no', 'yes'], dtype=object),\n",
       " array(['no', 'yes'], dtype=object)]"
      ]
     },
     "execution_count": 8,
     "metadata": {},
     "output_type": "execute_result"
    }
   ],
   "source": [
    "categoricals = [\"gender\", \"cholesterol\", \"gluc\", \"smoke\", \"alco\", \"active\"]\n",
    "\n",
    "enc = OneHotEncoder(drop = \"first\")\n",
    "X = data[categoricals]\n",
    "enc.fit(X)\n",
    "enc.categories_"
   ]
  },
  {
   "cell_type": "code",
   "execution_count": 9,
   "id": "b7bf35d9",
   "metadata": {},
   "outputs": [
    {
     "data": {
      "text/html": [
       "<div>\n",
       "<style scoped>\n",
       "    .dataframe tbody tr th:only-of-type {\n",
       "        vertical-align: middle;\n",
       "    }\n",
       "\n",
       "    .dataframe tbody tr th {\n",
       "        vertical-align: top;\n",
       "    }\n",
       "\n",
       "    .dataframe thead th {\n",
       "        text-align: right;\n",
       "    }\n",
       "</style>\n",
       "<table border=\"1\" class=\"dataframe\">\n",
       "  <thead>\n",
       "    <tr style=\"text-align: right;\">\n",
       "      <th></th>\n",
       "      <th>gender_m</th>\n",
       "      <th>cholesterol_high</th>\n",
       "      <th>cholesterol_normal</th>\n",
       "      <th>gluc_normal</th>\n",
       "      <th>gluc_prediabetes</th>\n",
       "      <th>smoke_yes</th>\n",
       "      <th>alco_yes</th>\n",
       "      <th>active_yes</th>\n",
       "      <th>height</th>\n",
       "      <th>weight</th>\n",
       "      <th>AgeinYr</th>\n",
       "      <th>ap_hi</th>\n",
       "      <th>ap_lo</th>\n",
       "      <th>bmi</th>\n",
       "      <th>fram</th>\n",
       "      <th>esc</th>\n",
       "      <th>cardio</th>\n",
       "    </tr>\n",
       "  </thead>\n",
       "  <tbody>\n",
       "    <tr>\n",
       "      <th>0</th>\n",
       "      <td>0.0</td>\n",
       "      <td>0.0</td>\n",
       "      <td>1.0</td>\n",
       "      <td>1.0</td>\n",
       "      <td>0.0</td>\n",
       "      <td>0.0</td>\n",
       "      <td>0.0</td>\n",
       "      <td>1.0</td>\n",
       "      <td>168</td>\n",
       "      <td>62.0</td>\n",
       "      <td>50</td>\n",
       "      <td>110.0</td>\n",
       "      <td>80.0</td>\n",
       "      <td>21.97</td>\n",
       "      <td>18</td>\n",
       "      <td>2</td>\n",
       "      <td>0</td>\n",
       "    </tr>\n",
       "    <tr>\n",
       "      <th>1</th>\n",
       "      <td>1.0</td>\n",
       "      <td>1.0</td>\n",
       "      <td>0.0</td>\n",
       "      <td>1.0</td>\n",
       "      <td>0.0</td>\n",
       "      <td>0.0</td>\n",
       "      <td>0.0</td>\n",
       "      <td>1.0</td>\n",
       "      <td>156</td>\n",
       "      <td>85.0</td>\n",
       "      <td>55</td>\n",
       "      <td>140.0</td>\n",
       "      <td>90.0</td>\n",
       "      <td>34.93</td>\n",
       "      <td>16</td>\n",
       "      <td>10</td>\n",
       "      <td>1</td>\n",
       "    </tr>\n",
       "    <tr>\n",
       "      <th>2</th>\n",
       "      <td>1.0</td>\n",
       "      <td>1.0</td>\n",
       "      <td>0.0</td>\n",
       "      <td>1.0</td>\n",
       "      <td>0.0</td>\n",
       "      <td>0.0</td>\n",
       "      <td>0.0</td>\n",
       "      <td>0.0</td>\n",
       "      <td>165</td>\n",
       "      <td>64.0</td>\n",
       "      <td>51</td>\n",
       "      <td>130.0</td>\n",
       "      <td>70.0</td>\n",
       "      <td>23.51</td>\n",
       "      <td>13</td>\n",
       "      <td>6</td>\n",
       "      <td>1</td>\n",
       "    </tr>\n",
       "    <tr>\n",
       "      <th>3</th>\n",
       "      <td>0.0</td>\n",
       "      <td>0.0</td>\n",
       "      <td>1.0</td>\n",
       "      <td>1.0</td>\n",
       "      <td>0.0</td>\n",
       "      <td>0.0</td>\n",
       "      <td>0.0</td>\n",
       "      <td>1.0</td>\n",
       "      <td>169</td>\n",
       "      <td>82.0</td>\n",
       "      <td>48</td>\n",
       "      <td>150.0</td>\n",
       "      <td>100.0</td>\n",
       "      <td>28.71</td>\n",
       "      <td>16</td>\n",
       "      <td>2</td>\n",
       "      <td>1</td>\n",
       "    </tr>\n",
       "    <tr>\n",
       "      <th>4</th>\n",
       "      <td>1.0</td>\n",
       "      <td>0.0</td>\n",
       "      <td>1.0</td>\n",
       "      <td>1.0</td>\n",
       "      <td>0.0</td>\n",
       "      <td>0.0</td>\n",
       "      <td>0.0</td>\n",
       "      <td>0.0</td>\n",
       "      <td>156</td>\n",
       "      <td>56.0</td>\n",
       "      <td>47</td>\n",
       "      <td>100.0</td>\n",
       "      <td>60.0</td>\n",
       "      <td>23.01</td>\n",
       "      <td>15</td>\n",
       "      <td>3</td>\n",
       "      <td>0</td>\n",
       "    </tr>\n",
       "  </tbody>\n",
       "</table>\n",
       "</div>"
      ],
      "text/plain": [
       "   gender_m  cholesterol_high  cholesterol_normal  gluc_normal  \\\n",
       "0       0.0               0.0                 1.0          1.0   \n",
       "1       1.0               1.0                 0.0          1.0   \n",
       "2       1.0               1.0                 0.0          1.0   \n",
       "3       0.0               0.0                 1.0          1.0   \n",
       "4       1.0               0.0                 1.0          1.0   \n",
       "\n",
       "   gluc_prediabetes  smoke_yes  alco_yes  active_yes  height  weight  AgeinYr  \\\n",
       "0               0.0        0.0       0.0         1.0     168    62.0       50   \n",
       "1               0.0        0.0       0.0         1.0     156    85.0       55   \n",
       "2               0.0        0.0       0.0         0.0     165    64.0       51   \n",
       "3               0.0        0.0       0.0         1.0     169    82.0       48   \n",
       "4               0.0        0.0       0.0         0.0     156    56.0       47   \n",
       "\n",
       "   ap_hi  ap_lo    bmi  fram  esc  cardio  \n",
       "0  110.0   80.0  21.97    18    2       0  \n",
       "1  140.0   90.0  34.93    16   10       1  \n",
       "2  130.0   70.0  23.51    13    6       1  \n",
       "3  150.0  100.0  28.71    16    2       1  \n",
       "4  100.0   60.0  23.01    15    3       0  "
      ]
     },
     "execution_count": 9,
     "metadata": {},
     "output_type": "execute_result"
    }
   ],
   "source": [
    "dummies = enc.transform(X).toarray()\n",
    "dummies\n",
    "dummies_df = pd.DataFrame(dummies)\n",
    "dummies_df\n",
    "\n",
    "col_names = [categoricals[i] + '_' + enc.categories_[i] for i in range(len(categoricals))] \n",
    "                                                                 #range(len(categoricals)) = 0 a 6\n",
    "col_names_drop_first = [sublist[i] for sublist in col_names for i in range(len(sublist)) if i != 0]\n",
    "dummies_df.columns = col_names_drop_first\n",
    "variables_numericas = [\"height\", \"weight\", \"AgeinYr\", \"ap_hi\", \"ap_lo\", \"bmi\", \"fram\", \"esc\"]\n",
    "data_numerica = data[variables_numericas]\n",
    "data_final = pd.concat([dummies_df, data_numerica,data[\"cardio\"]], axis = 1)\n",
    "data_final.head()"
   ]
  },
  {
   "cell_type": "code",
   "execution_count": null,
   "id": "5aa49e1a",
   "metadata": {},
   "outputs": [],
   "source": []
  },
  {
   "cell_type": "markdown",
   "id": "08a082bf",
   "metadata": {},
   "source": [
    "## 5.Logistic Regression Model Fitting\n"
   ]
  },
  {
   "cell_type": "code",
   "execution_count": 10,
   "id": "4d4e19ad",
   "metadata": {},
   "outputs": [],
   "source": [
    "X = data_final.drop(\"cardio\", axis = 1)\n",
    "y = data_final[\"cardio\"]"
   ]
  },
  {
   "cell_type": "code",
   "execution_count": 11,
   "id": "59481b16",
   "metadata": {},
   "outputs": [],
   "source": [
    "# We separate the training data from the test data\n",
    "X_train, X_test, y_train, y_test = train_test_split(X, y, stratify=y, random_state = 0)"
   ]
  },
  {
   "cell_type": "code",
   "execution_count": 12,
   "id": "c024be55",
   "metadata": {},
   "outputs": [],
   "source": [
    "# We standardize the data to obtain a correct regularization\n",
    "scaler = StandardScaler()\n",
    "X_train_std = scaler.fit_transform(X_train)\n",
    "X_test_std = scaler.transform(X_test)"
   ]
  },
  {
   "cell_type": "code",
   "execution_count": 13,
   "id": "32a75996",
   "metadata": {},
   "outputs": [
    {
     "data": {
      "text/plain": [
       "LogisticRegression()"
      ]
     },
     "execution_count": 13,
     "metadata": {},
     "output_type": "execute_result"
    }
   ],
   "source": [
    "lr = LogisticRegression()\n",
    "lr.fit(X_train_std, y_train)"
   ]
  },
  {
   "cell_type": "markdown",
   "id": "5abba153",
   "metadata": {},
   "source": [
    "### Predicting the test set results and calculating the accuracy\n",
    "\n"
   ]
  },
  {
   "cell_type": "code",
   "execution_count": 14,
   "id": "738b633b",
   "metadata": {},
   "outputs": [
    {
     "data": {
      "text/plain": [
       "0.729092024782755"
      ]
     },
     "execution_count": 14,
     "metadata": {},
     "output_type": "execute_result"
    }
   ],
   "source": [
    "accuracy_score(y_train, lr.predict(X_train_std))"
   ]
  },
  {
   "cell_type": "code",
   "execution_count": 15,
   "id": "f6eaf253",
   "metadata": {},
   "outputs": [
    {
     "data": {
      "text/plain": [
       "Text(33.0, 0.5, 'Reales')"
      ]
     },
     "execution_count": 15,
     "metadata": {},
     "output_type": "execute_result"
    },
    {
     "data": {
      "image/png": "[encoded data removed]",
      "text/plain": [
       "<Figure size 432x288 with 2 Axes>"
      ]
     },
     "metadata": {
      "needs_background": "light"
     },
     "output_type": "display_data"
    }
   ],
   "source": [
    "sns.heatmap(confusion_matrix(y_train, lr.predict(X_train_std)), annot=True, fmt='4d')\n",
    "plt.xlabel('Predichos')\n",
    "plt.ylabel('Reales')"
   ]
  },
  {
   "cell_type": "code",
   "execution_count": 16,
   "id": "875d14a7",
   "metadata": {},
   "outputs": [
    {
     "data": {
      "text/plain": [
       "array([0.38325133, 0.19141405, 0.46173223, ..., 0.27865534, 0.45793084,\n",
       "       0.39601461])"
      ]
     },
     "execution_count": 16,
     "metadata": {},
     "output_type": "execute_result"
    }
   ],
   "source": [
    "lr.predict_proba(X_train_std[y_train==0])[:,1]"
   ]
  },
  {
   "cell_type": "code",
   "execution_count": 17,
   "id": "13c4c583",
   "metadata": {},
   "outputs": [
    {
     "data": {
      "text/plain": [
       "<matplotlib.legend.Legend at 0x7feaf97d51f0>"
      ]
     },
     "execution_count": 17,
     "metadata": {},
     "output_type": "execute_result"
    },
    {
     "data": {
      "image/png": "[encoded data removed]",
      "text/plain": [
       "<Figure size 432x288 with 1 Axes>"
      ]
     },
     "metadata": {
      "needs_background": "light"
     },
     "output_type": "display_data"
    }
   ],
   "source": [
    "# Histograma de probabilidades\n",
    "sns.histplot(data = lr.predict_proba(X_train_std[y_train==0])[:,1], stat = 'density')\n",
    "sns.histplot(data = lr.predict_proba(X_train_std[y_train==1])[:,1], stat = 'density', color = 'orange')\n",
    "ylim = plt.ylim()\n",
    "plt.vlines(0.5, ylim[0], ylim[1])\n",
    "plt.ylim(ylim)\n",
    "plt.legend(['Umbral', 'cardio = 0', 'cardio = 1'])"
   ]
  },
  {
   "cell_type": "code",
   "execution_count": 18,
   "id": "ee43cc8c",
   "metadata": {},
   "outputs": [],
   "source": [
    "#Dada la naturaleza del probelma, conviene utilizar una estrategia que impida clasificar como pacientes sanos a aquellos que están en riesgo."
   ]
  },
  {
   "cell_type": "code",
   "execution_count": 28,
   "id": "e8b15b6f",
   "metadata": {},
   "outputs": [],
   "source": [
    "umbral = 0.2\n",
    "probs = lr.predict_proba(X_train_std)[:,1]\n",
    "y_pred_train = probs > umbral"
   ]
  },
  {
   "cell_type": "code",
   "execution_count": 29,
   "id": "564a82e3",
   "metadata": {},
   "outputs": [
    {
     "data": {
      "text/plain": [
       "0.5758823412973336"
      ]
     },
     "execution_count": 29,
     "metadata": {},
     "output_type": "execute_result"
    }
   ],
   "source": [
    "accuracy_score(y_train, y_pred_train)"
   ]
  },
  {
   "cell_type": "code",
   "execution_count": 30,
   "id": "49d25c20",
   "metadata": {},
   "outputs": [
    {
     "data": {
      "text/plain": [
       "Text(33.0, 0.5, 'Reales')"
      ]
     },
     "execution_count": 30,
     "metadata": {},
     "output_type": "execute_result"
    },
    {
     "data": {
      "image/png": "[encoded data removed]",
      "text/plain": [
       "<Figure size 432x288 with 2 Axes>"
      ]
     },
     "metadata": {
      "needs_background": "light"
     },
     "output_type": "display_data"
    }
   ],
   "source": [
    "sns.heatmap(confusion_matrix(y_train, y_pred_train), annot=True, fmt='4d')\n",
    "plt.xlabel('Predichos')\n",
    "plt.ylabel('Reales')"
   ]
  },
  {
   "cell_type": "code",
   "execution_count": null,
   "id": "2f15a7e4",
   "metadata": {},
   "outputs": [],
   "source": []
  }
 ],
 "metadata": {
  "kernelspec": {
   "display_name": "Python 3 (ipykernel)",
   "language": "python",
   "name": "python3"
  },
  "language_info": {
   "codemirror_mode": {
    "name": "ipython",
    "version": 3
   },
   "file_extension": ".py",
   "mimetype": "text/x-python",
   "name": "python",
   "nbconvert_exporter": "python",
   "pygments_lexer": "ipython3",
   "version": "3.8.12"
  }
 },
 "nbformat": 4,
 "nbformat_minor": 5
}
