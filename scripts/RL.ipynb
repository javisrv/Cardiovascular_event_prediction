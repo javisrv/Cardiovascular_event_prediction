{
 "cells": [
  {
   "cell_type": "markdown",
   "id": "8bb39721",
   "metadata": {},
   "source": [
    "## 1. Load basic modules "
   ]
  },
  {
   "cell_type": "code",
   "execution_count": 1,
   "id": "062beefd",
   "metadata": {},
   "outputs": [],
   "source": [
    "import pandas as pd\n",
    "import numpy as np\n",
    "import matplotlib.pyplot as plt\n",
    "import seaborn as sns\n",
    "from sklearn.preprocessing import OneHotEncoder\n",
    "import statsmodels.api as sm\n",
    "from sklearn.model_selection import train_test_split\n",
    "from sklearn.preprocessing import StandardScaler\n",
    "from sklearn.linear_model import LogisticRegression\n",
    "from sklearn.metrics import accuracy_score, confusion_matrix, classification_report\n",
    "from sklearn.metrics import f1_score\n",
    "from sklearn.metrics import recall_score\n",
    "from sklearn.metrics import precision_score\n",
    "from sklearn.metrics import mean_squared_error\n",
    "from sklearn.metrics import roc_curve\n",
    "from sklearn.metrics import auc\n",
    "from sklearn.metrics import roc_auc_score\n"
   ]
  },
  {
   "cell_type": "markdown",
   "id": "4c94ed72",
   "metadata": {},
   "source": [
    "# 2.Load CSV "
   ]
  },
  {
   "cell_type": "code",
   "execution_count": 2,
   "id": "254e301b",
   "metadata": {
    "scrolled": true
   },
   "outputs": [
    {
     "data": {
      "text/html": [
       "<div>\n",
       "<style scoped>\n",
       "    .dataframe tbody tr th:only-of-type {\n",
       "        vertical-align: middle;\n",
       "    }\n",
       "\n",
       "    .dataframe tbody tr th {\n",
       "        vertical-align: top;\n",
       "    }\n",
       "\n",
       "    .dataframe thead th {\n",
       "        text-align: right;\n",
       "    }\n",
       "</style>\n",
       "<table border=\"1\" class=\"dataframe\">\n",
       "  <thead>\n",
       "    <tr style=\"text-align: right;\">\n",
       "      <th></th>\n",
       "      <th>gender</th>\n",
       "      <th>ap_hi</th>\n",
       "      <th>ap_lo</th>\n",
       "      <th>cholesterol</th>\n",
       "      <th>gluc</th>\n",
       "      <th>smoke</th>\n",
       "      <th>alco</th>\n",
       "      <th>active</th>\n",
       "      <th>cardio</th>\n",
       "      <th>AgeinYr</th>\n",
       "      <th>bmi</th>\n",
       "      <th>fram</th>\n",
       "      <th>esc</th>\n",
       "    </tr>\n",
       "  </thead>\n",
       "  <tbody>\n",
       "    <tr>\n",
       "      <th>0</th>\n",
       "      <td>f</td>\n",
       "      <td>110.0</td>\n",
       "      <td>80.0</td>\n",
       "      <td>normal</td>\n",
       "      <td>normal</td>\n",
       "      <td>no</td>\n",
       "      <td>no</td>\n",
       "      <td>yes</td>\n",
       "      <td>0</td>\n",
       "      <td>50</td>\n",
       "      <td>21.97</td>\n",
       "      <td>15</td>\n",
       "      <td>2</td>\n",
       "    </tr>\n",
       "    <tr>\n",
       "      <th>1</th>\n",
       "      <td>m</td>\n",
       "      <td>140.0</td>\n",
       "      <td>90.0</td>\n",
       "      <td>high</td>\n",
       "      <td>normal</td>\n",
       "      <td>no</td>\n",
       "      <td>no</td>\n",
       "      <td>yes</td>\n",
       "      <td>1</td>\n",
       "      <td>55</td>\n",
       "      <td>34.93</td>\n",
       "      <td>15</td>\n",
       "      <td>10</td>\n",
       "    </tr>\n",
       "    <tr>\n",
       "      <th>2</th>\n",
       "      <td>m</td>\n",
       "      <td>130.0</td>\n",
       "      <td>70.0</td>\n",
       "      <td>high</td>\n",
       "      <td>normal</td>\n",
       "      <td>no</td>\n",
       "      <td>no</td>\n",
       "      <td>no</td>\n",
       "      <td>1</td>\n",
       "      <td>51</td>\n",
       "      <td>23.51</td>\n",
       "      <td>12</td>\n",
       "      <td>6</td>\n",
       "    </tr>\n",
       "    <tr>\n",
       "      <th>3</th>\n",
       "      <td>f</td>\n",
       "      <td>150.0</td>\n",
       "      <td>100.0</td>\n",
       "      <td>normal</td>\n",
       "      <td>normal</td>\n",
       "      <td>no</td>\n",
       "      <td>no</td>\n",
       "      <td>yes</td>\n",
       "      <td>1</td>\n",
       "      <td>48</td>\n",
       "      <td>28.71</td>\n",
       "      <td>17</td>\n",
       "      <td>2</td>\n",
       "    </tr>\n",
       "    <tr>\n",
       "      <th>4</th>\n",
       "      <td>m</td>\n",
       "      <td>100.0</td>\n",
       "      <td>60.0</td>\n",
       "      <td>normal</td>\n",
       "      <td>normal</td>\n",
       "      <td>no</td>\n",
       "      <td>no</td>\n",
       "      <td>no</td>\n",
       "      <td>0</td>\n",
       "      <td>47</td>\n",
       "      <td>23.01</td>\n",
       "      <td>17</td>\n",
       "      <td>2</td>\n",
       "    </tr>\n",
       "    <tr>\n",
       "      <th>5</th>\n",
       "      <td>m</td>\n",
       "      <td>120.0</td>\n",
       "      <td>80.0</td>\n",
       "      <td>bordering</td>\n",
       "      <td>prediabetes</td>\n",
       "      <td>no</td>\n",
       "      <td>no</td>\n",
       "      <td>no</td>\n",
       "      <td>0</td>\n",
       "      <td>60</td>\n",
       "      <td>29.38</td>\n",
       "      <td>12</td>\n",
       "      <td>9</td>\n",
       "    </tr>\n",
       "    <tr>\n",
       "      <th>6</th>\n",
       "      <td>m</td>\n",
       "      <td>130.0</td>\n",
       "      <td>80.0</td>\n",
       "      <td>high</td>\n",
       "      <td>normal</td>\n",
       "      <td>no</td>\n",
       "      <td>no</td>\n",
       "      <td>yes</td>\n",
       "      <td>0</td>\n",
       "      <td>60</td>\n",
       "      <td>37.73</td>\n",
       "      <td>16</td>\n",
       "      <td>10</td>\n",
       "    </tr>\n",
       "    <tr>\n",
       "      <th>7</th>\n",
       "      <td>f</td>\n",
       "      <td>130.0</td>\n",
       "      <td>90.0</td>\n",
       "      <td>high</td>\n",
       "      <td>diabetes</td>\n",
       "      <td>no</td>\n",
       "      <td>no</td>\n",
       "      <td>yes</td>\n",
       "      <td>1</td>\n",
       "      <td>61</td>\n",
       "      <td>29.98</td>\n",
       "      <td>16</td>\n",
       "      <td>6</td>\n",
       "    </tr>\n",
       "    <tr>\n",
       "      <th>8</th>\n",
       "      <td>m</td>\n",
       "      <td>110.0</td>\n",
       "      <td>70.0</td>\n",
       "      <td>normal</td>\n",
       "      <td>normal</td>\n",
       "      <td>no</td>\n",
       "      <td>no</td>\n",
       "      <td>yes</td>\n",
       "      <td>0</td>\n",
       "      <td>48</td>\n",
       "      <td>28.44</td>\n",
       "      <td>11</td>\n",
       "      <td>3</td>\n",
       "    </tr>\n",
       "    <tr>\n",
       "      <th>9</th>\n",
       "      <td>m</td>\n",
       "      <td>110.0</td>\n",
       "      <td>60.0</td>\n",
       "      <td>normal</td>\n",
       "      <td>normal</td>\n",
       "      <td>no</td>\n",
       "      <td>no</td>\n",
       "      <td>no</td>\n",
       "      <td>0</td>\n",
       "      <td>54</td>\n",
       "      <td>25.28</td>\n",
       "      <td>12</td>\n",
       "      <td>3</td>\n",
       "    </tr>\n",
       "    <tr>\n",
       "      <th>10</th>\n",
       "      <td>m</td>\n",
       "      <td>120.0</td>\n",
       "      <td>80.0</td>\n",
       "      <td>normal</td>\n",
       "      <td>normal</td>\n",
       "      <td>no</td>\n",
       "      <td>no</td>\n",
       "      <td>yes</td>\n",
       "      <td>0</td>\n",
       "      <td>61</td>\n",
       "      <td>28.01</td>\n",
       "      <td>16</td>\n",
       "      <td>8</td>\n",
       "    </tr>\n",
       "    <tr>\n",
       "      <th>11</th>\n",
       "      <td>f</td>\n",
       "      <td>120.0</td>\n",
       "      <td>80.0</td>\n",
       "      <td>normal</td>\n",
       "      <td>normal</td>\n",
       "      <td>no</td>\n",
       "      <td>no</td>\n",
       "      <td>yes</td>\n",
       "      <td>0</td>\n",
       "      <td>51</td>\n",
       "      <td>20.05</td>\n",
       "      <td>13</td>\n",
       "      <td>2</td>\n",
       "    </tr>\n",
       "    <tr>\n",
       "      <th>12</th>\n",
       "      <td>f</td>\n",
       "      <td>120.0</td>\n",
       "      <td>80.0</td>\n",
       "      <td>normal</td>\n",
       "      <td>normal</td>\n",
       "      <td>no</td>\n",
       "      <td>no</td>\n",
       "      <td>no</td>\n",
       "      <td>0</td>\n",
       "      <td>40</td>\n",
       "      <td>22.04</td>\n",
       "      <td>14</td>\n",
       "      <td>1</td>\n",
       "    </tr>\n",
       "    <tr>\n",
       "      <th>13</th>\n",
       "      <td>m</td>\n",
       "      <td>110.0</td>\n",
       "      <td>70.0</td>\n",
       "      <td>normal</td>\n",
       "      <td>normal</td>\n",
       "      <td>no</td>\n",
       "      <td>no</td>\n",
       "      <td>yes</td>\n",
       "      <td>0</td>\n",
       "      <td>54</td>\n",
       "      <td>31.24</td>\n",
       "      <td>12</td>\n",
       "      <td>3</td>\n",
       "    </tr>\n",
       "    <tr>\n",
       "      <th>14</th>\n",
       "      <td>f</td>\n",
       "      <td>130.0</td>\n",
       "      <td>90.0</td>\n",
       "      <td>normal</td>\n",
       "      <td>normal</td>\n",
       "      <td>yes</td>\n",
       "      <td>yes</td>\n",
       "      <td>yes</td>\n",
       "      <td>0</td>\n",
       "      <td>39</td>\n",
       "      <td>29.00</td>\n",
       "      <td>24</td>\n",
       "      <td>3</td>\n",
       "    </tr>\n",
       "    <tr>\n",
       "      <th>15</th>\n",
       "      <td>f</td>\n",
       "      <td>120.0</td>\n",
       "      <td>80.0</td>\n",
       "      <td>normal</td>\n",
       "      <td>normal</td>\n",
       "      <td>no</td>\n",
       "      <td>no</td>\n",
       "      <td>no</td>\n",
       "      <td>1</td>\n",
       "      <td>45</td>\n",
       "      <td>37.86</td>\n",
       "      <td>13</td>\n",
       "      <td>2</td>\n",
       "    </tr>\n",
       "    <tr>\n",
       "      <th>16</th>\n",
       "      <td>m</td>\n",
       "      <td>130.0</td>\n",
       "      <td>70.0</td>\n",
       "      <td>normal</td>\n",
       "      <td>normal</td>\n",
       "      <td>no</td>\n",
       "      <td>no</td>\n",
       "      <td>no</td>\n",
       "      <td>0</td>\n",
       "      <td>58</td>\n",
       "      <td>25.95</td>\n",
       "      <td>16</td>\n",
       "      <td>5</td>\n",
       "    </tr>\n",
       "    <tr>\n",
       "      <th>17</th>\n",
       "      <td>m</td>\n",
       "      <td>110.0</td>\n",
       "      <td>70.0</td>\n",
       "      <td>normal</td>\n",
       "      <td>diabetes</td>\n",
       "      <td>no</td>\n",
       "      <td>no</td>\n",
       "      <td>yes</td>\n",
       "      <td>0</td>\n",
       "      <td>45</td>\n",
       "      <td>20.83</td>\n",
       "      <td>13</td>\n",
       "      <td>3</td>\n",
       "    </tr>\n",
       "    <tr>\n",
       "      <th>18</th>\n",
       "      <td>m</td>\n",
       "      <td>100.0</td>\n",
       "      <td>70.0</td>\n",
       "      <td>normal</td>\n",
       "      <td>normal</td>\n",
       "      <td>no</td>\n",
       "      <td>no</td>\n",
       "      <td>no</td>\n",
       "      <td>0</td>\n",
       "      <td>47</td>\n",
       "      <td>28.67</td>\n",
       "      <td>14</td>\n",
       "      <td>3</td>\n",
       "    </tr>\n",
       "    <tr>\n",
       "      <th>19</th>\n",
       "      <td>f</td>\n",
       "      <td>120.0</td>\n",
       "      <td>70.0</td>\n",
       "      <td>normal</td>\n",
       "      <td>normal</td>\n",
       "      <td>yes</td>\n",
       "      <td>no</td>\n",
       "      <td>yes</td>\n",
       "      <td>0</td>\n",
       "      <td>59</td>\n",
       "      <td>21.34</td>\n",
       "      <td>20</td>\n",
       "      <td>7</td>\n",
       "    </tr>\n",
       "  </tbody>\n",
       "</table>\n",
       "</div>"
      ],
      "text/plain": [
       "   gender  ap_hi  ap_lo cholesterol         gluc smoke alco active  cardio  \\\n",
       "0       f  110.0   80.0      normal       normal    no   no    yes       0   \n",
       "1       m  140.0   90.0        high       normal    no   no    yes       1   \n",
       "2       m  130.0   70.0        high       normal    no   no     no       1   \n",
       "3       f  150.0  100.0      normal       normal    no   no    yes       1   \n",
       "4       m  100.0   60.0      normal       normal    no   no     no       0   \n",
       "5       m  120.0   80.0   bordering  prediabetes    no   no     no       0   \n",
       "6       m  130.0   80.0        high       normal    no   no    yes       0   \n",
       "7       f  130.0   90.0        high     diabetes    no   no    yes       1   \n",
       "8       m  110.0   70.0      normal       normal    no   no    yes       0   \n",
       "9       m  110.0   60.0      normal       normal    no   no     no       0   \n",
       "10      m  120.0   80.0      normal       normal    no   no    yes       0   \n",
       "11      f  120.0   80.0      normal       normal    no   no    yes       0   \n",
       "12      f  120.0   80.0      normal       normal    no   no     no       0   \n",
       "13      m  110.0   70.0      normal       normal    no   no    yes       0   \n",
       "14      f  130.0   90.0      normal       normal   yes  yes    yes       0   \n",
       "15      f  120.0   80.0      normal       normal    no   no     no       1   \n",
       "16      m  130.0   70.0      normal       normal    no   no     no       0   \n",
       "17      m  110.0   70.0      normal     diabetes    no   no    yes       0   \n",
       "18      m  100.0   70.0      normal       normal    no   no     no       0   \n",
       "19      f  120.0   70.0      normal       normal   yes   no    yes       0   \n",
       "\n",
       "    AgeinYr    bmi  fram  esc  \n",
       "0        50  21.97    15    2  \n",
       "1        55  34.93    15   10  \n",
       "2        51  23.51    12    6  \n",
       "3        48  28.71    17    2  \n",
       "4        47  23.01    17    2  \n",
       "5        60  29.38    12    9  \n",
       "6        60  37.73    16   10  \n",
       "7        61  29.98    16    6  \n",
       "8        48  28.44    11    3  \n",
       "9        54  25.28    12    3  \n",
       "10       61  28.01    16    8  \n",
       "11       51  20.05    13    2  \n",
       "12       40  22.04    14    1  \n",
       "13       54  31.24    12    3  \n",
       "14       39  29.00    24    3  \n",
       "15       45  37.86    13    2  \n",
       "16       58  25.95    16    5  \n",
       "17       45  20.83    13    3  \n",
       "18       47  28.67    14    3  \n",
       "19       59  21.34    20    7  "
      ]
     },
     "execution_count": 2,
     "metadata": {},
     "output_type": "execute_result"
    }
   ],
   "source": [
    "data = pd.read_csv(\"../documents/data_both_scores.csv\")\n",
    "data.head(20)"
   ]
  },
  {
   "cell_type": "code",
   "execution_count": 3,
   "id": "57d5d4e8",
   "metadata": {},
   "outputs": [
    {
     "data": {
      "text/plain": [
       "(67359, 13)"
      ]
     },
     "execution_count": 3,
     "metadata": {},
     "output_type": "execute_result"
    }
   ],
   "source": [
    "data.shape"
   ]
  },
  {
   "cell_type": "code",
   "execution_count": 4,
   "id": "75f17dfb",
   "metadata": {},
   "outputs": [
    {
     "data": {
      "text/html": [
       "<table class=\"simpletable\">\n",
       "<caption>Generalized Linear Model Regression Results</caption>\n",
       "<tr>\n",
       "  <th>Dep. Variable:</th>        <td>cardio</td>      <th>  No. Observations:  </th>  <td> 67359</td> \n",
       "</tr>\n",
       "<tr>\n",
       "  <th>Model:</th>                  <td>GLM</td>       <th>  Df Residuals:      </th>  <td> 67346</td> \n",
       "</tr>\n",
       "<tr>\n",
       "  <th>Model Family:</th>        <td>Binomial</td>     <th>  Df Model:          </th>  <td>    12</td> \n",
       "</tr>\n",
       "<tr>\n",
       "  <th>Link Function:</th>         <td>logit</td>      <th>  Scale:             </th> <td>  1.0000</td>\n",
       "</tr>\n",
       "<tr>\n",
       "  <th>Method:</th>                <td>IRLS</td>       <th>  Log-Likelihood:    </th> <td> -39953.</td>\n",
       "</tr>\n",
       "<tr>\n",
       "  <th>Date:</th>            <td>Mon, 18 Jul 2022</td> <th>  Deviance:          </th> <td>  79906.</td>\n",
       "</tr>\n",
       "<tr>\n",
       "  <th>Time:</th>                <td>17:58:00</td>     <th>  Pearson chi2:      </th> <td>7.27e+04</td>\n",
       "</tr>\n",
       "<tr>\n",
       "  <th>No. Iterations:</th>          <td>5</td>        <th>                     </th>     <td> </td>   \n",
       "</tr>\n",
       "<tr>\n",
       "  <th>Covariance Type:</th>     <td>nonrobust</td>    <th>                     </th>     <td> </td>   \n",
       "</tr>\n",
       "</table>\n",
       "<table class=\"simpletable\">\n",
       "<tr>\n",
       "            <td></td>               <th>coef</th>     <th>std err</th>      <th>z</th>      <th>P>|z|</th>  <th>[0.025</th>    <th>0.975]</th>  \n",
       "</tr>\n",
       "<tr>\n",
       "  <th>Intercept</th>             <td>   -0.5938</td> <td>    0.122</td> <td>   -4.876</td> <td> 0.000</td> <td>   -0.832</td> <td>   -0.355</td>\n",
       "</tr>\n",
       "<tr>\n",
       "  <th>gender[T.m]</th>           <td>   -0.9415</td> <td>    0.028</td> <td>  -33.049</td> <td> 0.000</td> <td>   -0.997</td> <td>   -0.886</td>\n",
       "</tr>\n",
       "<tr>\n",
       "  <th>cholesterol[T.high]</th>   <td>    0.1972</td> <td>    0.043</td> <td>    4.621</td> <td> 0.000</td> <td>    0.114</td> <td>    0.281</td>\n",
       "</tr>\n",
       "<tr>\n",
       "  <th>cholesterol[T.normal]</th> <td>   -0.3759</td> <td>    0.030</td> <td>  -12.660</td> <td> 0.000</td> <td>   -0.434</td> <td>   -0.318</td>\n",
       "</tr>\n",
       "<tr>\n",
       "  <th>gluc[T.normal]</th>        <td>    0.4060</td> <td>    0.039</td> <td>   10.306</td> <td> 0.000</td> <td>    0.329</td> <td>    0.483</td>\n",
       "</tr>\n",
       "<tr>\n",
       "  <th>gluc[T.prediabetes]</th>   <td>    0.4309</td> <td>    0.051</td> <td>    8.517</td> <td> 0.000</td> <td>    0.332</td> <td>    0.530</td>\n",
       "</tr>\n",
       "<tr>\n",
       "  <th>smoke[T.yes]</th>          <td>   -1.8966</td> <td>    0.043</td> <td>  -44.211</td> <td> 0.000</td> <td>   -1.981</td> <td>   -1.813</td>\n",
       "</tr>\n",
       "<tr>\n",
       "  <th>alco[T.yes]</th>           <td>   -0.1553</td> <td>    0.040</td> <td>   -3.836</td> <td> 0.000</td> <td>   -0.235</td> <td>   -0.076</td>\n",
       "</tr>\n",
       "<tr>\n",
       "  <th>active[T.yes]</th>         <td>   -0.1763</td> <td>    0.021</td> <td>   -8.237</td> <td> 0.000</td> <td>   -0.218</td> <td>   -0.134</td>\n",
       "</tr>\n",
       "<tr>\n",
       "  <th>AgeinYr</th>               <td>   -0.0651</td> <td>    0.002</td> <td>  -28.893</td> <td> 0.000</td> <td>   -0.069</td> <td>   -0.061</td>\n",
       "</tr>\n",
       "<tr>\n",
       "  <th>bmi</th>                   <td>    0.0446</td> <td>    0.002</td> <td>   24.501</td> <td> 0.000</td> <td>    0.041</td> <td>    0.048</td>\n",
       "</tr>\n",
       "<tr>\n",
       "  <th>fram</th>                  <td>    0.0997</td> <td>    0.004</td> <td>   27.323</td> <td> 0.000</td> <td>    0.093</td> <td>    0.107</td>\n",
       "</tr>\n",
       "<tr>\n",
       "  <th>esc</th>                   <td>    0.4433</td> <td>    0.008</td> <td>   56.920</td> <td> 0.000</td> <td>    0.428</td> <td>    0.459</td>\n",
       "</tr>\n",
       "</table>"
      ],
      "text/plain": [
       "<class 'statsmodels.iolib.summary.Summary'>\n",
       "\"\"\"\n",
       "                 Generalized Linear Model Regression Results                  \n",
       "==============================================================================\n",
       "Dep. Variable:                 cardio   No. Observations:                67359\n",
       "Model:                            GLM   Df Residuals:                    67346\n",
       "Model Family:                Binomial   Df Model:                           12\n",
       "Link Function:                  logit   Scale:                          1.0000\n",
       "Method:                          IRLS   Log-Likelihood:                -39953.\n",
       "Date:                Mon, 18 Jul 2022   Deviance:                       79906.\n",
       "Time:                        17:58:00   Pearson chi2:                 7.27e+04\n",
       "No. Iterations:                     5                                         \n",
       "Covariance Type:            nonrobust                                         \n",
       "=========================================================================================\n",
       "                            coef    std err          z      P>|z|      [0.025      0.975]\n",
       "-----------------------------------------------------------------------------------------\n",
       "Intercept                -0.5938      0.122     -4.876      0.000      -0.832      -0.355\n",
       "gender[T.m]              -0.9415      0.028    -33.049      0.000      -0.997      -0.886\n",
       "cholesterol[T.high]       0.1972      0.043      4.621      0.000       0.114       0.281\n",
       "cholesterol[T.normal]    -0.3759      0.030    -12.660      0.000      -0.434      -0.318\n",
       "gluc[T.normal]            0.4060      0.039     10.306      0.000       0.329       0.483\n",
       "gluc[T.prediabetes]       0.4309      0.051      8.517      0.000       0.332       0.530\n",
       "smoke[T.yes]             -1.8966      0.043    -44.211      0.000      -1.981      -1.813\n",
       "alco[T.yes]              -0.1553      0.040     -3.836      0.000      -0.235      -0.076\n",
       "active[T.yes]            -0.1763      0.021     -8.237      0.000      -0.218      -0.134\n",
       "AgeinYr                  -0.0651      0.002    -28.893      0.000      -0.069      -0.061\n",
       "bmi                       0.0446      0.002     24.501      0.000       0.041       0.048\n",
       "fram                      0.0997      0.004     27.323      0.000       0.093       0.107\n",
       "esc                       0.4433      0.008     56.920      0.000       0.428       0.459\n",
       "=========================================================================================\n",
       "\"\"\""
      ]
     },
     "execution_count": 4,
     "metadata": {},
     "output_type": "execute_result"
    }
   ],
   "source": [
    "model = sm.GLM.from_formula(\"cardio ~ gender + AgeinYr + cholesterol + gluc + smoke + alco + active + bmi + fram + esc\", family = sm.families.Binomial(), data=data)\n",
    "\n",
    "result = model.fit()\n",
    "result.summary()"
   ]
  },
  {
   "cell_type": "markdown",
   "id": "a991254b",
   "metadata": {},
   "source": [
    "**The p-values for most of the variables are smaller than 0.05, so we keep all the features**"
   ]
  },
  {
   "cell_type": "code",
   "execution_count": 5,
   "id": "56013898",
   "metadata": {},
   "outputs": [
    {
     "data": {
      "text/html": [
       "<div>\n",
       "<style scoped>\n",
       "    .dataframe tbody tr th:only-of-type {\n",
       "        vertical-align: middle;\n",
       "    }\n",
       "\n",
       "    .dataframe tbody tr th {\n",
       "        vertical-align: top;\n",
       "    }\n",
       "\n",
       "    .dataframe thead th {\n",
       "        text-align: right;\n",
       "    }\n",
       "</style>\n",
       "<table border=\"1\" class=\"dataframe\">\n",
       "  <thead>\n",
       "    <tr style=\"text-align: right;\">\n",
       "      <th></th>\n",
       "      <th>cardio</th>\n",
       "      <th>AgeinYr</th>\n",
       "      <th>bmi</th>\n",
       "      <th>fram</th>\n",
       "      <th>esc</th>\n",
       "    </tr>\n",
       "  </thead>\n",
       "  <tbody>\n",
       "    <tr>\n",
       "      <th>cardio</th>\n",
       "      <td>1.000000</td>\n",
       "      <td>0.235421</td>\n",
       "      <td>0.190022</td>\n",
       "      <td>0.182982</td>\n",
       "      <td>0.329704</td>\n",
       "    </tr>\n",
       "    <tr>\n",
       "      <th>AgeinYr</th>\n",
       "      <td>0.235421</td>\n",
       "      <td>1.000000</td>\n",
       "      <td>0.096048</td>\n",
       "      <td>0.398127</td>\n",
       "      <td>0.681668</td>\n",
       "    </tr>\n",
       "    <tr>\n",
       "      <th>bmi</th>\n",
       "      <td>0.190022</td>\n",
       "      <td>0.096048</td>\n",
       "      <td>1.000000</td>\n",
       "      <td>0.066508</td>\n",
       "      <td>0.233437</td>\n",
       "    </tr>\n",
       "    <tr>\n",
       "      <th>fram</th>\n",
       "      <td>0.182982</td>\n",
       "      <td>0.398127</td>\n",
       "      <td>0.066508</td>\n",
       "      <td>1.000000</td>\n",
       "      <td>0.244956</td>\n",
       "    </tr>\n",
       "    <tr>\n",
       "      <th>esc</th>\n",
       "      <td>0.329704</td>\n",
       "      <td>0.681668</td>\n",
       "      <td>0.233437</td>\n",
       "      <td>0.244956</td>\n",
       "      <td>1.000000</td>\n",
       "    </tr>\n",
       "  </tbody>\n",
       "</table>\n",
       "</div>"
      ],
      "text/plain": [
       "           cardio   AgeinYr       bmi      fram       esc\n",
       "cardio   1.000000  0.235421  0.190022  0.182982  0.329704\n",
       "AgeinYr  0.235421  1.000000  0.096048  0.398127  0.681668\n",
       "bmi      0.190022  0.096048  1.000000  0.066508  0.233437\n",
       "fram     0.182982  0.398127  0.066508  1.000000  0.244956\n",
       "esc      0.329704  0.681668  0.233437  0.244956  1.000000"
      ]
     },
     "execution_count": 5,
     "metadata": {},
     "output_type": "execute_result"
    }
   ],
   "source": [
    "data[[\"cardio\", \"gender\", \"AgeinYr\", \"cholesterol\", \"gluc\", \"smoke\", \"alco\", \"active\", \"bmi\", \"fram\", \"esc\"]].corr()\n"
   ]
  },
  {
   "cell_type": "markdown",
   "id": "6962b105",
   "metadata": {},
   "source": [
    "# 3.Transform the Categorical Variables: Creating Dummy Variables"
   ]
  },
  {
   "cell_type": "code",
   "execution_count": 6,
   "id": "7ab9fb15",
   "metadata": {},
   "outputs": [
    {
     "data": {
      "text/plain": [
       "[array(['f', 'm'], dtype=object),\n",
       " array(['bordering', 'high', 'normal'], dtype=object),\n",
       " array(['diabetes', 'normal', 'prediabetes'], dtype=object),\n",
       " array(['no', 'yes'], dtype=object),\n",
       " array(['no', 'yes'], dtype=object),\n",
       " array(['no', 'yes'], dtype=object)]"
      ]
     },
     "execution_count": 6,
     "metadata": {},
     "output_type": "execute_result"
    }
   ],
   "source": [
    "categoricals = [\"gender\", \"cholesterol\", \"gluc\", \"smoke\", \"alco\", \"active\"]\n",
    "\n",
    "enc = OneHotEncoder(drop = \"first\")\n",
    "X = data[categoricals]\n",
    "enc.fit(X)\n",
    "enc.categories_"
   ]
  },
  {
   "cell_type": "code",
   "execution_count": 7,
   "id": "b7bf35d9",
   "metadata": {},
   "outputs": [
    {
     "data": {
      "text/html": [
       "<div>\n",
       "<style scoped>\n",
       "    .dataframe tbody tr th:only-of-type {\n",
       "        vertical-align: middle;\n",
       "    }\n",
       "\n",
       "    .dataframe tbody tr th {\n",
       "        vertical-align: top;\n",
       "    }\n",
       "\n",
       "    .dataframe thead th {\n",
       "        text-align: right;\n",
       "    }\n",
       "</style>\n",
       "<table border=\"1\" class=\"dataframe\">\n",
       "  <thead>\n",
       "    <tr style=\"text-align: right;\">\n",
       "      <th></th>\n",
       "      <th>gender_m</th>\n",
       "      <th>cholesterol_high</th>\n",
       "      <th>cholesterol_normal</th>\n",
       "      <th>gluc_normal</th>\n",
       "      <th>gluc_prediabetes</th>\n",
       "      <th>smoke_yes</th>\n",
       "      <th>alco_yes</th>\n",
       "      <th>active_yes</th>\n",
       "      <th>AgeinYr</th>\n",
       "      <th>ap_hi</th>\n",
       "      <th>ap_lo</th>\n",
       "      <th>bmi</th>\n",
       "      <th>fram</th>\n",
       "      <th>esc</th>\n",
       "      <th>cardio</th>\n",
       "    </tr>\n",
       "  </thead>\n",
       "  <tbody>\n",
       "    <tr>\n",
       "      <th>0</th>\n",
       "      <td>0.0</td>\n",
       "      <td>0.0</td>\n",
       "      <td>1.0</td>\n",
       "      <td>1.0</td>\n",
       "      <td>0.0</td>\n",
       "      <td>0.0</td>\n",
       "      <td>0.0</td>\n",
       "      <td>1.0</td>\n",
       "      <td>50</td>\n",
       "      <td>110.0</td>\n",
       "      <td>80.0</td>\n",
       "      <td>21.97</td>\n",
       "      <td>15</td>\n",
       "      <td>2</td>\n",
       "      <td>0</td>\n",
       "    </tr>\n",
       "    <tr>\n",
       "      <th>1</th>\n",
       "      <td>1.0</td>\n",
       "      <td>1.0</td>\n",
       "      <td>0.0</td>\n",
       "      <td>1.0</td>\n",
       "      <td>0.0</td>\n",
       "      <td>0.0</td>\n",
       "      <td>0.0</td>\n",
       "      <td>1.0</td>\n",
       "      <td>55</td>\n",
       "      <td>140.0</td>\n",
       "      <td>90.0</td>\n",
       "      <td>34.93</td>\n",
       "      <td>15</td>\n",
       "      <td>10</td>\n",
       "      <td>1</td>\n",
       "    </tr>\n",
       "    <tr>\n",
       "      <th>2</th>\n",
       "      <td>1.0</td>\n",
       "      <td>1.0</td>\n",
       "      <td>0.0</td>\n",
       "      <td>1.0</td>\n",
       "      <td>0.0</td>\n",
       "      <td>0.0</td>\n",
       "      <td>0.0</td>\n",
       "      <td>0.0</td>\n",
       "      <td>51</td>\n",
       "      <td>130.0</td>\n",
       "      <td>70.0</td>\n",
       "      <td>23.51</td>\n",
       "      <td>12</td>\n",
       "      <td>6</td>\n",
       "      <td>1</td>\n",
       "    </tr>\n",
       "    <tr>\n",
       "      <th>3</th>\n",
       "      <td>0.0</td>\n",
       "      <td>0.0</td>\n",
       "      <td>1.0</td>\n",
       "      <td>1.0</td>\n",
       "      <td>0.0</td>\n",
       "      <td>0.0</td>\n",
       "      <td>0.0</td>\n",
       "      <td>1.0</td>\n",
       "      <td>48</td>\n",
       "      <td>150.0</td>\n",
       "      <td>100.0</td>\n",
       "      <td>28.71</td>\n",
       "      <td>17</td>\n",
       "      <td>2</td>\n",
       "      <td>1</td>\n",
       "    </tr>\n",
       "    <tr>\n",
       "      <th>4</th>\n",
       "      <td>1.0</td>\n",
       "      <td>0.0</td>\n",
       "      <td>1.0</td>\n",
       "      <td>1.0</td>\n",
       "      <td>0.0</td>\n",
       "      <td>0.0</td>\n",
       "      <td>0.0</td>\n",
       "      <td>0.0</td>\n",
       "      <td>47</td>\n",
       "      <td>100.0</td>\n",
       "      <td>60.0</td>\n",
       "      <td>23.01</td>\n",
       "      <td>17</td>\n",
       "      <td>2</td>\n",
       "      <td>0</td>\n",
       "    </tr>\n",
       "  </tbody>\n",
       "</table>\n",
       "</div>"
      ],
      "text/plain": [
       "   gender_m  cholesterol_high  cholesterol_normal  gluc_normal  \\\n",
       "0       0.0               0.0                 1.0          1.0   \n",
       "1       1.0               1.0                 0.0          1.0   \n",
       "2       1.0               1.0                 0.0          1.0   \n",
       "3       0.0               0.0                 1.0          1.0   \n",
       "4       1.0               0.0                 1.0          1.0   \n",
       "\n",
       "   gluc_prediabetes  smoke_yes  alco_yes  active_yes  AgeinYr  ap_hi  ap_lo  \\\n",
       "0               0.0        0.0       0.0         1.0       50  110.0   80.0   \n",
       "1               0.0        0.0       0.0         1.0       55  140.0   90.0   \n",
       "2               0.0        0.0       0.0         0.0       51  130.0   70.0   \n",
       "3               0.0        0.0       0.0         1.0       48  150.0  100.0   \n",
       "4               0.0        0.0       0.0         0.0       47  100.0   60.0   \n",
       "\n",
       "     bmi  fram  esc  cardio  \n",
       "0  21.97    15    2       0  \n",
       "1  34.93    15   10       1  \n",
       "2  23.51    12    6       1  \n",
       "3  28.71    17    2       1  \n",
       "4  23.01    17    2       0  "
      ]
     },
     "execution_count": 7,
     "metadata": {},
     "output_type": "execute_result"
    }
   ],
   "source": [
    "dummies = enc.transform(X).toarray()\n",
    "dummies\n",
    "dummies_df = pd.DataFrame(dummies)\n",
    "dummies_df\n",
    "\n",
    "col_names = [categoricals[i] + '_' + enc.categories_[i] for i in range(len(categoricals))] \n",
    "                                                                 #range(len(categoricals)) = 0 a 6\n",
    "col_names_drop_first = [sublist[i] for sublist in col_names for i in range(len(sublist)) if i != 0]\n",
    "dummies_df.columns = col_names_drop_first\n",
    "variables_numericas = [\"AgeinYr\", \"ap_hi\", \"ap_lo\", \"bmi\", \"fram\", \"esc\"]\n",
    "data_numerica = data[variables_numericas]\n",
    "data_final = pd.concat([dummies_df, data_numerica,data[\"cardio\"]], axis = 1)\n",
    "data_final.head()"
   ]
  },
  {
   "cell_type": "code",
   "execution_count": null,
   "id": "5aa49e1a",
   "metadata": {},
   "outputs": [],
   "source": []
  },
  {
   "cell_type": "markdown",
   "id": "08a082bf",
   "metadata": {},
   "source": [
    "## 4.Logistic Regression Model Fitting\n"
   ]
  },
  {
   "cell_type": "code",
   "execution_count": 8,
   "id": "4d4e19ad",
   "metadata": {},
   "outputs": [],
   "source": [
    "X = data_final.drop(\"cardio\", axis = 1)\n",
    "y = data_final[\"cardio\"]"
   ]
  },
  {
   "cell_type": "code",
   "execution_count": 9,
   "id": "761cf220",
   "metadata": {},
   "outputs": [],
   "source": [
    "logistic_regression = LogisticRegression()\n"
   ]
  },
  {
   "cell_type": "code",
   "execution_count": 10,
   "id": "59481b16",
   "metadata": {},
   "outputs": [],
   "source": [
    "# We separate the training data from the test data\n",
    "X_train, X_test, y_train, y_test = train_test_split(X, y, stratify=y, random_state = 0)"
   ]
  },
  {
   "cell_type": "code",
   "execution_count": 11,
   "id": "c024be55",
   "metadata": {},
   "outputs": [],
   "source": [
    "# We standardize the data to obtain a correct regularization\n",
    "scaler = StandardScaler()\n",
    "X_train_std = scaler.fit_transform(X_train)\n",
    "X_test_std = scaler.transform(X_test)"
   ]
  },
  {
   "cell_type": "markdown",
   "id": "06dfbe31",
   "metadata": {},
   "source": [
    "### Predicting the test set results and calculating the accuracy\n"
   ]
  },
  {
   "cell_type": "code",
   "execution_count": 12,
   "id": "32a75996",
   "metadata": {},
   "outputs": [],
   "source": [
    "#Model Fitting\n",
    "logistic_regression.fit(X_train_std, y_train)\n",
    "\n",
    "\n",
    "y_train_pred = logistic_regression.predict(X_train_std)\n",
    "y_test_pred = logistic_regression.predict(X_test_std)"
   ]
  },
  {
   "cell_type": "code",
   "execution_count": 13,
   "id": "738b633b",
   "metadata": {},
   "outputs": [
    {
     "data": {
      "text/plain": [
       "0.7296912114014252"
      ]
     },
     "execution_count": 13,
     "metadata": {},
     "output_type": "execute_result"
    }
   ],
   "source": [
    "accuracy_score(y_test, y_test_pred)"
   ]
  },
  {
   "cell_type": "code",
   "execution_count": 14,
   "id": "f6eaf253",
   "metadata": {},
   "outputs": [
    {
     "data": {
      "text/plain": [
       "Text(33.0, 0.5, 'Reales')"
      ]
     },
     "execution_count": 14,
     "metadata": {},
     "output_type": "execute_result"
    },
    {
     "data": {
      "image/png": "[encoded data removed]",
      "text/plain": [
       "<Figure size 432x288 with 2 Axes>"
      ]
     },
     "metadata": {
      "needs_background": "light"
     },
     "output_type": "display_data"
    }
   ],
   "source": [
    "sns.heatmap(confusion_matrix(y_test, y_test_pred), annot=True, fmt='4d')\n",
    "plt.xlabel('Predichos')\n",
    "plt.ylabel('Reales')"
   ]
  },
  {
   "cell_type": "code",
   "execution_count": 15,
   "id": "875d14a7",
   "metadata": {},
   "outputs": [
    {
     "data": {
      "text/plain": [
       "array([0.37758282, 0.18375924, 0.48460283, ..., 0.29348456, 0.44912504,\n",
       "       0.38236013])"
      ]
     },
     "execution_count": 15,
     "metadata": {},
     "output_type": "execute_result"
    }
   ],
   "source": [
    "logistic_regression.predict_proba(X_train_std[y_train==0])[:,1]"
   ]
  },
  {
   "cell_type": "code",
   "execution_count": 16,
   "id": "7cb00ee1",
   "metadata": {},
   "outputs": [
    {
     "data": {
      "text/plain": [
       "array([0.6226604 , 0.72642756, 0.43791933, ..., 0.3461376 , 0.58622018,\n",
       "       0.99218597])"
      ]
     },
     "execution_count": 16,
     "metadata": {},
     "output_type": "execute_result"
    }
   ],
   "source": [
    "logistic_regression.predict_proba(X_train_std[y_train==1])[:,1]"
   ]
  },
  {
   "cell_type": "code",
   "execution_count": 17,
   "id": "13c4c583",
   "metadata": {},
   "outputs": [
    {
     "data": {
      "text/plain": [
       "<matplotlib.legend.Legend at 0x7f9423f5a040>"
      ]
     },
     "execution_count": 17,
     "metadata": {},
     "output_type": "execute_result"
    },
    {
     "data": {
      "image/png": "[encoded data removed]",
      "text/plain": [
       "<Figure size 432x288 with 1 Axes>"
      ]
     },
     "metadata": {
      "needs_background": "light"
     },
     "output_type": "display_data"
    }
   ],
   "source": [
    "# Histograma de probabilidades\n",
    "sns.histplot(data = logistic_regression.predict_proba(X_train_std[y_train==0])[:,1], stat = 'density')\n",
    "sns.histplot(data = logistic_regression.predict_proba(X_train_std[y_train==1])[:,1], stat = 'density', color = 'orange')\n",
    "ylim = plt.ylim()\n",
    "plt.vlines(0.5, ylim[0], ylim[1])\n",
    "plt.ylim(ylim)\n",
    "plt.legend(['Umbral', 'cardio = 0', 'cardio = 1'])"
   ]
  },
  {
   "cell_type": "code",
   "execution_count": 18,
   "id": "b5795cd4",
   "metadata": {},
   "outputs": [
    {
     "name": "stdout",
     "output_type": "stream",
     "text": [
      "Accuracy:  0.73\n",
      "F1 Score:  0.71\n",
      "precision_score:  0.76\n",
      "recall_score:  0.67\n",
      "MSE:  0.27\n"
     ]
    }
   ],
   "source": [
    "print(\"Accuracy: \", accuracy_score(y_test, y_test_pred).round(2))\n",
    "print(\"F1 Score: \", f1_score(y_test, y_test_pred).round(2))\n",
    "print('precision_score: ', precision_score(y_test, y_test_pred).round(2))\n",
    "print('recall_score: ', recall_score(y_test, y_test_pred).round(2))\n",
    "print('MSE: ', mean_squared_error(y_test, y_test_pred).round(3))"
   ]
  },
  {
   "cell_type": "code",
   "execution_count": 44,
   "id": "8df96afe",
   "metadata": {},
   "outputs": [
    {
     "data": {
      "image/png": "[encoded data removed]",
      "text/plain": [
       "<Figure size 432x288 with 1 Axes>"
      ]
     },
     "metadata": {
      "needs_background": "light"
     },
     "output_type": "display_data"
    }
   ],
   "source": [
    "\n",
    "y_pred_prob = logistic_regression.predict_proba(X_test)\n",
    "\n",
    "fpr_lr,tpr_lr,thr_lr = roc_curve(y_test, y_pred_prob[:,1])\n",
    "\n",
    "plt.axis([0, 1.01, 0, 1.01])\n",
    "plt.xlabel('1 - Specificty')\n",
    "plt.ylabel('TPR / Sensitivity')\n",
    "plt.title('ROC Curve')\n",
    "plt.plot(fpr_lr, tpr_lr, 'r')\n",
    "plt.legend('LR')\n",
    "plt.plot(np.arange(0,1, step =0.01), np.arange(0,1, step =0.01))\n",
    "plt.show()"
   ]
  },
  {
   "cell_type": "code",
   "execution_count": 40,
   "id": "23a51666",
   "metadata": {},
   "outputs": [
    {
     "name": "stdout",
     "output_type": "stream",
     "text": [
      "AUC= 0.5\n"
     ]
    }
   ],
   "source": [
    "print('AUC=', round(auc(fpr_lr, tpr_lr),2))"
   ]
  },
  {
   "cell_type": "code",
   "execution_count": 21,
   "id": "ee43cc8c",
   "metadata": {},
   "outputs": [],
   "source": [
    "#Dada la naturaleza del probelma, conviene utilizar una estrategia que impida clasificar como pacientes sanos a aquellos que están en riesgo."
   ]
  },
  {
   "cell_type": "code",
   "execution_count": 22,
   "id": "e41aca49",
   "metadata": {
    "scrolled": true
   },
   "outputs": [
    {
     "data": {
      "image/png": "[encoded data removed]",
      "text/plain": [
       "<Figure size 432x288 with 1 Axes>"
      ]
     },
     "metadata": {
      "needs_background": "light"
     },
     "output_type": "display_data"
    }
   ],
   "source": [
    "recalls = []\n",
    "accuracy = []\n",
    "precision = []\n",
    "\n",
    "thresholds = [0.1, 0.2, 0.3, 0.4, 0.5, 0.6, 0.8, 0.9]\n",
    "\n",
    "probs_train = logistic_regression.predict_proba(X_train_std)[:,1]\n",
    "probs_test = logistic_regression.predict_proba(X_test_std)[:,1]\n",
    "\n",
    "for th in thresholds:\n",
    "    y_pred_test_umbral = probs_test > th\n",
    "    rec = recall_score(y_test, y_pred_test_umbral)\n",
    "    acc = accuracy_score(y_test, y_pred_test_umbral)\n",
    "    pres = precision_score(y_test, y_pred_test_umbral)\n",
    "    \n",
    "    \n",
    "    recalls.append(rec)\n",
    "    accuracy.append(acc)\n",
    "    precision.append(pres)\n",
    "    \n",
    " # plot the recalls values\n",
    "plt.plot(thresholds, recalls, 'm')\n",
    "plt.plot(thresholds, accuracy, 'b')\n",
    "plt.plot(thresholds, precision, 'r')\n",
    "\n",
    "plt.legend(['recall', 'accuracy', 'precision'])\n",
    "\n",
    "plt.xlabel('Threshold')\n",
    "plt.ylabel('metrics')\n",
    "plt.show() "
   ]
  },
  {
   "cell_type": "code",
   "execution_count": 23,
   "id": "98333a91",
   "metadata": {},
   "outputs": [],
   "source": [
    "umbral = 0.4\n",
    "probs_train_04 = logistic_regression.predict_proba(X_train_std)[:,1]\n",
    "probs_test_04 = logistic_regression.predict_proba(X_test_std)[:,1]\n",
    "\n",
    "y_pred_train_umbral_04 = probs_train > umbral\n",
    "y_pred_test_umbral_04 = probs_test > umbral"
   ]
  },
  {
   "cell_type": "code",
   "execution_count": 24,
   "id": "49d25c20",
   "metadata": {},
   "outputs": [
    {
     "data": {
      "text/plain": [
       "Text(33.0, 0.5, 'Reales')"
      ]
     },
     "execution_count": 24,
     "metadata": {},
     "output_type": "execute_result"
    },
    {
     "data": {
      "image/png": "[encoded data removed]",
      "text/plain": [
       "<Figure size 432x288 with 2 Axes>"
      ]
     },
     "metadata": {
      "needs_background": "light"
     },
     "output_type": "display_data"
    }
   ],
   "source": [
    "sns.heatmap(confusion_matrix(y_test, y_pred_test_umbral_04), annot=True, fmt='4d')\n",
    "plt.xlabel('Predichos')\n",
    "plt.ylabel('Reales')"
   ]
  },
  {
   "cell_type": "code",
   "execution_count": 25,
   "id": "2f15a7e4",
   "metadata": {
    "scrolled": true
   },
   "outputs": [
    {
     "name": "stdout",
     "output_type": "stream",
     "text": [
      "Accuracy:  0.71\n",
      "precision_score:  0.68\n",
      "recall_score:  0.8\n"
     ]
    }
   ],
   "source": [
    "print(\"Accuracy: \", accuracy_score(y_test, y_pred_test_umbral_04).round(2))\n",
    "#print(\"F1 Score: \", f1_score(y_test, y_pred_test_umbral_04).round(2))\n",
    "print('precision_score: ', precision_score(y_test, y_pred_test_umbral_04).round(2))\n",
    "print('recall_score: ', recall_score(y_test, y_pred_test_umbral_04).round(2))\n",
    "#print('MSE: ', mean_squared_error(y_test, y_pred_test_umbral_04).round(3))"
   ]
  },
  {
   "cell_type": "code",
   "execution_count": 42,
   "id": "17b77af2",
   "metadata": {
    "scrolled": true
   },
   "outputs": [
    {
     "data": {
      "image/png": "[encoded data removed]",
      "text/plain": [
       "<Figure size 432x288 with 1 Axes>"
      ]
     },
     "metadata": {
      "needs_background": "light"
     },
     "output_type": "display_data"
    }
   ],
   "source": [
    "y_pred_test_umbral_04 = logistic_regression.predict_proba(X_test)\n",
    "fpr_lr2,tpr_lr2,thr_lr2 = roc_curve(y_test, y_pred_test_umbral_04[:,1])\n",
    "\n",
    "\n",
    "\n",
    "plt.axis([0, 1.01, 0, 1.01])\n",
    "plt.xlabel('1 - Specificty')\n",
    "plt.ylabel('TPR / Sensitivity')\n",
    "plt.title('ROC Curve')\n",
    "plt.plot(fpr_lr, tpr_lr, 'g')\n",
    "plt.plot(fpr_lr2, tpr_lr2, 'r')\n",
    "\n",
    "plt.legend(['LR', 'LR2'])\n",
    "plt.plot(np.arange(0,1, step =0.01), np.arange(0,1, step =0.01))\n",
    "plt.show()"
   ]
  },
  {
   "cell_type": "code",
   "execution_count": 43,
   "id": "ee777737",
   "metadata": {},
   "outputs": [
    {
     "name": "stdout",
     "output_type": "stream",
     "text": [
      "AUC umbral 0.5 =  0.5\n",
      "AUC umbral 0.4 =  0.5\n"
     ]
    }
   ],
   "source": [
    "print('AUC umbral 0.5 = '  , round(auc(fpr_lr, tpr_lr),2))\n",
    "print('AUC umbral 0.4 = ', round(auc(fpr_lr2, tpr_lr2),2))"
   ]
  }
 ],
 "metadata": {
  "kernelspec": {
   "display_name": "Python 3 (ipykernel)",
   "language": "python",
   "name": "python3"
  },
  "language_info": {
   "codemirror_mode": {
    "name": "ipython",
    "version": 3
   },
   "file_extension": ".py",
   "mimetype": "text/x-python",
   "name": "python",
   "nbconvert_exporter": "python",
   "pygments_lexer": "ipython3",
   "version": "3.8.12"
  }
 },
 "nbformat": 4,
 "nbformat_minor": 5
}
